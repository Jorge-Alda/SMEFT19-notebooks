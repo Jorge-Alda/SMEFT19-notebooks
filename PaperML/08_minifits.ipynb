{
    "cells": [
        {
            "attachments": {},
            "cell_type": "markdown",
            "metadata": {},
            "source": [
                "# 08 Minifits\n",
                "\n",
                "Fits only to $C$ and $\\beta^q$, impact of different $b\\to c$ observables"
            ]
        },
        {
            "cell_type": "code",
            "execution_count": 1,
            "metadata": {},
            "outputs": [],
            "source": [
                "import SMEFT19\n",
                "import flavio"
            ]
        },
        {
            "attachments": {},
            "cell_type": "markdown",
            "metadata": {},
            "source": [
                "## 8.1 Minifit with all observables"
            ]
        },
        {
            "cell_type": "code",
            "execution_count": 2,
            "metadata": {},
            "outputs": [],
            "source": [
                "def fit(x):\n",
                "    return -SMEFT19.likelihood_global([x[0], 0, 0, 0, x[1]], SMEFT19.scenarios.rotBII)"
            ]
        },
        {
            "cell_type": "code",
            "execution_count": 3,
            "metadata": {},
            "outputs": [
                {
                    "name": "stdout",
                    "output_type": "stream",
                    "text": [
                        "Minimizing...\n",
                        "Pull: 6.296608807960643 sigma\n"
                    ]
                }
            ],
            "source": [
                "bf, v, d, L = SMEFT19.ellipse.minimum(fit, [-0.13, 0.75])"
            ]
        },
        {
            "cell_type": "code",
            "execution_count": 4,
            "metadata": {},
            "outputs": [
                {
                    "data": {
                        "text/plain": [
                            "array([-0.12923421,  0.8145296 ])"
                        ]
                    },
                    "execution_count": 4,
                    "metadata": {},
                    "output_type": "execute_result"
                }
            ],
            "source": [
                "bf"
            ]
        },
        {
            "cell_type": "code",
            "execution_count": 6,
            "metadata": {},
            "outputs": [
                {
                    "data": {
                        "text/plain": [
                            "43.82648904774896"
                        ]
                    },
                    "execution_count": 6,
                    "metadata": {},
                    "output_type": "execute_result"
                }
            ],
            "source": [
                "-2*L"
            ]
        },
        {
            "cell_type": "code",
            "execution_count": 8,
            "metadata": {},
            "outputs": [
                {
                    "data": {
                        "text/plain": [
                            "0.35537763069783024"
                        ]
                    },
                    "execution_count": 8,
                    "metadata": {},
                    "output_type": "execute_result"
                }
            ],
            "source": [
                "flavio.np_prediction(\"Rtaul(B->Dlnu)\", SMEFT19.scenarios.rotBII([bf[0], 0, 0, 0, bf[1]]))"
            ]
        },
        {
            "cell_type": "code",
            "execution_count": 9,
            "metadata": {},
            "outputs": [
                {
                    "data": {
                        "text/plain": [
                            "0.2928589456874999"
                        ]
                    },
                    "execution_count": 9,
                    "metadata": {},
                    "output_type": "execute_result"
                }
            ],
            "source": [
                "flavio.np_prediction(\"Rtaul(B->D*lnu)\", SMEFT19.scenarios.rotBII([bf[0], 0, 0, 0, bf[1]]))"
            ]
        },
        {
            "cell_type": "code",
            "execution_count": 10,
            "metadata": {},
            "outputs": [
                {
                    "data": {
                        "text/plain": [
                            "0.30978823247183074"
                        ]
                    },
                    "execution_count": 10,
                    "metadata": {},
                    "output_type": "execute_result"
                }
            ],
            "source": [
                "flavio.np_prediction(\"Rtaumu(Bc->J/psilnu)\", SMEFT19.scenarios.rotBII([bf[0], 0, 0, 0, bf[1]]))"
            ]
        },
        {
            "attachments": {},
            "cell_type": "markdown",
            "metadata": {},
            "source": [
                "## 8.2 Minifit without R(D)\n",
                "\n",
                "[Edited the files `data/yaml/likelihood_rd_rds.yaml` and `data/yaml/measurements_rd_rds.yaml` in `smelli`]"
            ]
        },
        {
            "cell_type": "code",
            "execution_count": 2,
            "metadata": {},
            "outputs": [],
            "source": [
                "def fit(x):\n",
                "    return -SMEFT19.likelihood_global([x[0], 0, 0, 0, x[1]], SMEFT19.scenarios.rotBII)"
            ]
        },
        {
            "cell_type": "code",
            "execution_count": 3,
            "metadata": {},
            "outputs": [
                {
                    "name": "stdout",
                    "output_type": "stream",
                    "text": [
                        "Minimizing...\n",
                        "Pull: 3.0939275760161573 sigma\n"
                    ]
                }
            ],
            "source": [
                "bf, v, d, L = SMEFT19.ellipse.minimum(fit, [-0.13, 0.75])"
            ]
        },
        {
            "cell_type": "code",
            "execution_count": 4,
            "metadata": {},
            "outputs": [
                {
                    "data": {
                        "text/plain": [
                            "array([-0.13003278,  0.8379907 ])"
                        ]
                    },
                    "execution_count": 4,
                    "metadata": {},
                    "output_type": "execute_result"
                }
            ],
            "source": [
                "bf"
            ]
        },
        {
            "cell_type": "code",
            "execution_count": 5,
            "metadata": {},
            "outputs": [
                {
                    "data": {
                        "text/plain": [
                            "12.454113539500337"
                        ]
                    },
                    "execution_count": 5,
                    "metadata": {},
                    "output_type": "execute_result"
                }
            ],
            "source": [
                "-2*L"
            ]
        },
        {
            "cell_type": "code",
            "execution_count": 6,
            "metadata": {},
            "outputs": [
                {
                    "data": {
                        "text/plain": [
                            "0.3560039845135399"
                        ]
                    },
                    "execution_count": 6,
                    "metadata": {},
                    "output_type": "execute_result"
                }
            ],
            "source": [
                "flavio.np_prediction(\"Rtaul(B->Dlnu)\", SMEFT19.scenarios.rotBII([bf[0], 0, 0, 0, bf[1]]))"
            ]
        },
        {
            "cell_type": "code",
            "execution_count": 7,
            "metadata": {},
            "outputs": [
                {
                    "data": {
                        "text/plain": [
                            "0.29337511394979937"
                        ]
                    },
                    "execution_count": 7,
                    "metadata": {},
                    "output_type": "execute_result"
                }
            ],
            "source": [
                "flavio.np_prediction(\"Rtaul(B->D*lnu)\", SMEFT19.scenarios.rotBII([bf[0], 0, 0, 0, bf[1]]))"
            ]
        },
        {
            "cell_type": "code",
            "execution_count": 8,
            "metadata": {},
            "outputs": [
                {
                    "data": {
                        "text/plain": [
                            "0.31033423893186945"
                        ]
                    },
                    "execution_count": 8,
                    "metadata": {},
                    "output_type": "execute_result"
                }
            ],
            "source": [
                "flavio.np_prediction(\"Rtaumu(Bc->J/psilnu)\", SMEFT19.scenarios.rotBII([bf[0], 0, 0, 0, bf[1]]))"
            ]
        },
        {
            "attachments": {},
            "cell_type": "markdown",
            "metadata": {},
            "source": [
                "## 8.2 Minifit without R(J/psi)"
            ]
        },
        {
            "cell_type": "code",
            "execution_count": 2,
            "metadata": {},
            "outputs": [],
            "source": [
                "def fit(x):\n",
                "    return -SMEFT19.likelihood_global([x[0], 0, 0, 0, x[1]], SMEFT19.scenarios.rotBII)"
            ]
        },
        {
            "cell_type": "code",
            "execution_count": 3,
            "metadata": {},
            "outputs": [
                {
                    "name": "stdout",
                    "output_type": "stream",
                    "text": [
                        "Minimizing...\n",
                        "Pull: 6.232029252056847 sigma\n"
                    ]
                }
            ],
            "source": [
                "bf, v, d, L = SMEFT19.ellipse.minimum(fit, [-0.13, 0.75])"
            ]
        },
        {
            "cell_type": "code",
            "execution_count": 4,
            "metadata": {},
            "outputs": [
                {
                    "data": {
                        "text/plain": [
                            "array([-0.12786477,  0.81801205])"
                        ]
                    },
                    "execution_count": 4,
                    "metadata": {},
                    "output_type": "execute_result"
                }
            ],
            "source": [
                "bf"
            ]
        },
        {
            "cell_type": "code",
            "execution_count": 5,
            "metadata": {},
            "outputs": [
                {
                    "data": {
                        "text/plain": [
                            "42.99771402396357"
                        ]
                    },
                    "execution_count": 5,
                    "metadata": {},
                    "output_type": "execute_result"
                }
            ],
            "source": [
                "-2*L"
            ]
        },
        {
            "cell_type": "code",
            "execution_count": 6,
            "metadata": {},
            "outputs": [
                {
                    "data": {
                        "text/plain": [
                            "0.35476765490251194"
                        ]
                    },
                    "execution_count": 6,
                    "metadata": {},
                    "output_type": "execute_result"
                }
            ],
            "source": [
                "flavio.np_prediction(\"Rtaul(B->Dlnu)\", SMEFT19.scenarios.rotBII([bf[0], 0, 0, 0, bf[1]]))"
            ]
        },
        {
            "cell_type": "code",
            "execution_count": 7,
            "metadata": {},
            "outputs": [
                {
                    "data": {
                        "text/plain": [
                            "0.2923562742589227"
                        ]
                    },
                    "execution_count": 7,
                    "metadata": {},
                    "output_type": "execute_result"
                }
            ],
            "source": [
                "flavio.np_prediction(\"Rtaul(B->D*lnu)\", SMEFT19.scenarios.rotBII([bf[0], 0, 0, 0, bf[1]]))"
            ]
        },
        {
            "cell_type": "code",
            "execution_count": 8,
            "metadata": {},
            "outputs": [
                {
                    "data": {
                        "text/plain": [
                            "0.30925650305787755"
                        ]
                    },
                    "execution_count": 8,
                    "metadata": {},
                    "output_type": "execute_result"
                }
            ],
            "source": [
                "flavio.np_prediction(\"Rtaumu(Bc->J/psilnu)\", SMEFT19.scenarios.rotBII([bf[0], 0, 0, 0, bf[1]]))"
            ]
        },
        {
            "cell_type": "code",
            "execution_count": null,
            "metadata": {},
            "outputs": [],
            "source": []
        }
    ],
    "metadata": {
        "kernelspec": {
            "display_name": "Python 3",
            "language": "python",
            "name": "python3"
        },
        "language_info": {
            "codemirror_mode": {
                "name": "ipython",
                "version": 3
            },
            "file_extension": ".py",
            "mimetype": "text/x-python",
            "name": "python",
            "nbconvert_exporter": "python",
            "pygments_lexer": "ipython3",
            "version": "3.9.16"
        },
        "vscode": {
            "interpreter": {
                "hash": "949777d72b0d2535278d3dc13498b2535136f6dfe0678499012e853ee9abcab1"
            }
        }
    },
    "nbformat": 4,
    "nbformat_minor": 4
}
