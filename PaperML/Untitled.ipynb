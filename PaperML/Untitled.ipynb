{
 "cells": [
  {
   "cell_type": "code",
   "execution_count": 25,
   "id": "c3394376",
   "metadata": {},
   "outputs": [],
   "source": [
    "from math import sqrt\n",
    "import flavio\n",
    "import yaml\n",
    "from parscanning import MontecarloScan\n",
    "from SMEFT19.SMEFTglob import likelihood_global, prediction\n",
    "from SMEFT19.ellipse import load\n",
    "from SMEFT19.scenarios import rotBI"
   ]
  },
  {
   "cell_type": "code",
   "execution_count": 2,
   "id": "a47f148b",
   "metadata": {},
   "outputs": [],
   "source": [
    "obslist = [\n",
    "    ('<Rmue>(B+->Kll)', 0.045, 1.1),\n",
    "    ('<Rmue>(B+->Kll)', 1.1, 6.0),\n",
    "    ('<Rmue>(B0->K*ll)', 0.045, 1.1),\n",
    "    ('<Rmue>(B0->K*ll)', 1.1, 6.0),\n",
    "    'Rtaul(B->Dlnu)',\n",
    "    'Rtaul(B->D*lnu)',\n",
    "    'Rtaumu(B->D*lnu)',\n",
    "    'Rtaumu(Bc->J/psilnu)',\n",
    "]"
   ]
  },
  {
   "cell_type": "code",
   "execution_count": 29,
   "id": "454fe4d2",
   "metadata": {},
   "outputs": [],
   "source": [
    "fdata = \"observables_BI.dat\"\n",
    "fout = '../data/observables/obsBI.yaml'\n",
    "fin = '../data/ellipses/rotBI.yaml'\n",
    "name = \"Scenario I\"\n",
    "wfun = rotBI"
   ]
  },
  {
   "cell_type": "code",
   "execution_count": 27,
   "id": "90750569",
   "metadata": {},
   "outputs": [
    {
     "name": "stderr",
     "output_type": "stream",
     "text": [
      "4 of the measurements of 'Rtaul(B->Dlnu)' are multivariate. This can lead to inconsistent results as the other observables are profiled over. To be consistent, you should perform a multivariate combination that is not yet supported by `combine_measurements`.\n",
      "4 of the measurements of 'Rtaul(B->D*lnu)' are multivariate. This can lead to inconsistent results as the other observables are profiled over. To be consistent, you should perform a multivariate combination that is not yet supported by `combine_measurements`.\n"
     ]
    }
   ],
   "source": [
    "values = dict()\n",
    "values['name'] = name\n",
    "uncert = []\n",
    "dellipse = load(fin)\n",
    "bf = dellipse['bf']\n",
    "w = wfun(bf)\n",
    "for obs in obslist:\n",
    "    values[str(obs)] = dict()\n",
    "    if isinstance(obs, str):\n",
    "        values[obs]['SM'] = dict()\n",
    "        values[obs]['exp'] = dict()\n",
    "        values[obs]['NP'] = dict()\n",
    "        values[obs]['NP']['central'] = float(flavio.np_prediction(obs, w))\n",
    "        uncert.append(flavio.np_uncertainty(obs, w))\n",
    "        values[obs]['SM']['central'] = float(flavio.sm_prediction(obs))\n",
    "        values[obs]['SM']['uncert'] = float(flavio.sm_uncertainty(obs))\n",
    "        dist = flavio.combine_measurements(obs)\n",
    "        values[obs]['exp']['central'] = float(dist.central_value)\n",
    "        values[obs]['exp']['uncert'] = float((dist.error_left * dist.error_right)**0.5)\n",
    "    else:\n",
    "        values[str(obs)]['SM'] = dict()\n",
    "        values[str(obs)]['exp'] = dict()\n",
    "        values[str(obs)]['NP'] = dict()\n",
    "        values[str(obs)]['NP']['central'] = float(flavio.np_prediction(obs[0], w,\n",
    "                                                                       obs[1], obs[2]))\n",
    "        uncert.append(flavio.np_uncertainty(obs[0], w, obs[1], obs[2]))\n",
    "        values[str(obs)]['SM']['central'] = float(flavio.sm_prediction(obs[0], obs[1], obs[2]))\n",
    "        values[str(obs)]['SM']['uncert'] = float(flavio.np_uncertainty(obs[0], w,\n",
    "                                                                       obs[1], obs[2]))\n",
    "        dist = flavio.combine_measurements(obs)\n",
    "        values[str(obs)]['exp']['central'] = float(dist.central_value)\n",
    "        values[str(obs)]['exp']['uncert'] = float((dist.error_left * dist.error_right)**0.5)"
   ]
  },
  {
   "cell_type": "code",
   "execution_count": 30,
   "id": "2e7a1c64",
   "metadata": {},
   "outputs": [],
   "source": [
    "import pandas as pd\n",
    "df = pd.read_csv(fdata, sep = '\\t', header=None)"
   ]
  },
  {
   "cell_type": "code",
   "execution_count": 11,
   "id": "08628c4b",
   "metadata": {},
   "outputs": [
    {
     "data": {
      "text/plain": [
       "0    0.028347\n",
       "1    0.028850\n",
       "2    0.006520\n",
       "3    0.026632\n",
       "4    0.007290\n",
       "5    0.006007\n",
       "6    0.006015\n",
       "7    0.006352\n",
       "dtype: float64"
      ]
     },
     "execution_count": 11,
     "metadata": {},
     "output_type": "execute_result"
    }
   ],
   "source": [
    "df.std()"
   ]
  },
  {
   "cell_type": "code",
   "execution_count": 31,
   "id": "2fcfdd25",
   "metadata": {},
   "outputs": [],
   "source": [
    "for i, obs in enumerate(obslist):\n",
    "    values[str(obs)]['NP']['uStat'] = float(df.std()[i])\n",
    "    values[str(obs)]['NP']['uncert'] = float(sqrt(uncert[i]**2 + df.std()[i]**2))"
   ]
  },
  {
   "cell_type": "code",
   "execution_count": 32,
   "id": "395fd0d5",
   "metadata": {},
   "outputs": [],
   "source": [
    "with open(fout, 'wt', encoding='utf-8') as f:\n",
    "    yaml.safe_dump(values, f)"
   ]
  },
  {
   "cell_type": "code",
   "execution_count": 15,
   "id": "c0aca1cd",
   "metadata": {},
   "outputs": [
    {
     "data": {
      "text/plain": [
       "{'name': 'Scenario II',\n",
       " \"('<Rmue>(B+->Kll)', 0.045, 1.1)\": {'SM': {'central': 0.9816497435344066,\n",
       "   'uncert': 0.0007324620876999544},\n",
       "  'exp': {'central': 0.994, 'uncert': 0.09034932207825358},\n",
       "  'NP': {'central': 0.9447693085450071,\n",
       "   'uStat': 0.028347171252384687,\n",
       "   'uncert': 0.028361062356346917}},\n",
       " \"('<Rmue>(B+->Kll)', 1.1, 6.0)\": {'SM': {'central': 1.00077907868083,\n",
       "   'uncert': 0.0009895357117806797},\n",
       "  'exp': {'central': 0.949, 'uncert': 0.046968074263269516},\n",
       "  'NP': {'central': 0.9632769005547215,\n",
       "   'uStat': 0.028850284858237766,\n",
       "   'uncert': 0.02886467308371756}},\n",
       " \"('<Rmue>(B0->K*ll)', 0.045, 1.1)\": {'SM': {'central': 0.9257149193771503,\n",
       "   'uncert': 0.0017859270443529964},\n",
       "  'exp': {'central': 0.927, 'uncert': 0.09670056876771718},\n",
       "  'NP': {'central': 0.9163329102737714,\n",
       "   'uStat': 0.0065195156319889855,\n",
       "   'uncert': 0.006821073970255939}},\n",
       " \"('<Rmue>(B0->K*ll)', 1.1, 6.0)\": {'SM': {'central': 0.9964411976226506,\n",
       "   'uncert': 0.001649330365764482},\n",
       "  'exp': {'central': 1.027, 'uncert': 0.07481978348003956},\n",
       "  'NP': {'central': 0.9616074964470975,\n",
       "   'uStat': 0.02663239194656161,\n",
       "   'uncert': 0.02668062096909846}},\n",
       " 'Rtaul(B->Dlnu)': {'SM': {'central': 0.2967203919372228,\n",
       "   'uncert': 0.007614646412291735},\n",
       "  'exp': {'central': 0.3567787169369038, 'uncert': 0.02954445738443251},\n",
       "  'NP': {'central': 0.3566379003340265,\n",
       "   'uStat': 0.00728967760519911,\n",
       "   'uncert': 0.012141965579057204}},\n",
       " 'Rtaul(B->D*lnu)': {'SM': {'central': 0.244520457048119,\n",
       "   'uncert': 0.008607523339706423},\n",
       "  'exp': {'central': 0.2929155845129376, 'uncert': 0.013791926487822495},\n",
       "  'NP': {'central': 0.2938974704453059,\n",
       "   'uStat': 0.0060073114090108725,\n",
       "   'uncert': 0.012243308832364286}},\n",
       " 'Rtaumu(B->D*lnu)': {'SM': {'central': 0.24491015946946318,\n",
       "   'uncert': 0.009646312159259653},\n",
       "  'exp': {'central': 0.3101428571428571, 'uncert': 0.02632435048717116},\n",
       "  'NP': {'central': 0.29439588275523965,\n",
       "   'uStat': 0.006014638272503211,\n",
       "   'uncert': 0.011247702089614491}},\n",
       " 'Rtaumu(Bc->J/psilnu)': {'SM': {'central': 0.2586554355662304,\n",
       "   'uncert': 0.0035152388806509254},\n",
       "  'exp': {'central': 0.71, 'uncert': 0.24758836806279896},\n",
       "  'NP': {'central': 0.31091849163957863,\n",
       "   'uStat': 0.006352203387246248,\n",
       "   'uncert': 0.008103930024756354}}}"
      ]
     },
     "execution_count": 15,
     "metadata": {},
     "output_type": "execute_result"
    }
   ],
   "source": [
    "values"
   ]
  },
  {
   "cell_type": "code",
   "execution_count": 19,
   "id": "0d45b3b9",
   "metadata": {},
   "outputs": [],
   "source": [
    "val2 = eval(\"\"\"{'name': 'Scenario II',\n",
    " \\\"('<Rmue>(B+->Kll)', 0.045, 1.1)\\\": {'SM': {'central': 0.9816497435344066,\n",
    "   'uncert': 0.0007324620876999544},\n",
    "  'exp': {'central': 0.994, 'uncert': 0.09034932207825358},\n",
    "  'NP': {'central': 0.9447693085450071,\n",
    "   'uStat': 0.028347171252384687,\n",
    "   'uncert': 0.028361062356346917}},\n",
    " \\\"('<Rmue>(B+->Kll)', 1.1, 6.0)\\\": {'SM': {'central': 1.00077907868083,\n",
    "   'uncert': 0.0009895357117806797},\n",
    "  'exp': {'central': 0.949, 'uncert': 0.046968074263269516},\n",
    "  'NP': {'central': 0.9632769005547215,\n",
    "   'uStat': 0.028850284858237766,\n",
    "   'uncert': 0.02886467308371756}},\n",
    " \"('<Rmue>(B0->K*ll)', 0.045, 1.1)\": {'SM': {'central': 0.9257149193771503,\n",
    "   'uncert': 0.0017859270443529964},\n",
    "  'exp': {'central': 0.927, 'uncert': 0.09670056876771718},\n",
    "  'NP': {'central': 0.9163329102737714,\n",
    "   'uStat': 0.0065195156319889855,\n",
    "   'uncert': 0.006821073970255939}},\n",
    " \"('<Rmue>(B0->K*ll)', 1.1, 6.0)\": {'SM': {'central': 0.9964411976226506,\n",
    "   'uncert': 0.001649330365764482},\n",
    "  'exp': {'central': 1.027, 'uncert': 0.07481978348003956},\n",
    "  'NP': {'central': 0.9616074964470975,\n",
    "   'uStat': 0.02663239194656161,\n",
    "   'uncert': 0.02668062096909846}},\n",
    " 'Rtaul(B->Dlnu)': {'SM': {'central': 0.2967203919372228,\n",
    "   'uncert': 0.007614646412291735},\n",
    "  'exp': {'central': 0.3567787169369038, 'uncert': 0.02954445738443251},\n",
    "  'NP': {'central': 0.3566379003340265,\n",
    "   'uStat': 0.00728967760519911,\n",
    "   'uncert': 0.012141965579057204}},\n",
    " 'Rtaul(B->D*lnu)': {'SM': {'central': 0.244520457048119,\n",
    "   'uncert': 0.008607523339706423},\n",
    "  'exp': {'central': 0.2929155845129376, 'uncert': 0.013791926487822495},\n",
    "  'NP': {'central': 0.2938974704453059,\n",
    "   'uStat': 0.0060073114090108725,\n",
    "   'uncert': 0.012243308832364286}},\n",
    " 'Rtaumu(B->D*lnu)': {'SM': {'central': 0.24491015946946318,\n",
    "   'uncert': 0.009646312159259653},\n",
    "  'exp': {'central': 0.3101428571428571, 'uncert': 0.02632435048717116},\n",
    "  'NP': {'central': 0.29439588275523965,\n",
    "   'uStat': 0.006014638272503211,\n",
    "   'uncert': 0.011247702089614491}},\n",
    " 'Rtaumu(Bc->J/psilnu)': {'SM': {'central': 0.2586554355662304,\n",
    "   'uncert': 0.0035152388806509254},\n",
    "  'exp': {'central': 0.71, 'uncert': 0.24758836806279896},\n",
    "  'NP': {'central': 0.31091849163957863,\n",
    "   'uStat': 0.006352203387246248,\n",
    "   'uncert': 0.008103930024756354}}}\"\"\")"
   ]
  },
  {
   "cell_type": "code",
   "execution_count": 21,
   "id": "d6116906",
   "metadata": {},
   "outputs": [
    {
     "data": {
      "text/plain": [
       "dict_keys(['name', \"('<Rmue>(B+->Kll)', 0.045, 1.1)\", \"('<Rmue>(B+->Kll)', 1.1, 6.0)\", \"('<Rmue>(B0->K*ll)', 0.045, 1.1)\", \"('<Rmue>(B0->K*ll)', 1.1, 6.0)\", 'Rtaul(B->Dlnu)', 'Rtaul(B->D*lnu)', 'Rtaumu(B->D*lnu)', 'Rtaumu(Bc->J/psilnu)'])"
      ]
     },
     "execution_count": 21,
     "metadata": {},
     "output_type": "execute_result"
    }
   ],
   "source": [
    "val2.keys()"
   ]
  },
  {
   "cell_type": "code",
   "execution_count": null,
   "id": "44d57c6b",
   "metadata": {},
   "outputs": [],
   "source": []
  }
 ],
 "metadata": {
  "kernelspec": {
   "display_name": "Python 3 (ipykernel)",
   "language": "python",
   "name": "python3"
  },
  "language_info": {
   "codemirror_mode": {
    "name": "ipython",
    "version": 3
   },
   "file_extension": ".py",
   "mimetype": "text/x-python",
   "name": "python",
   "nbconvert_exporter": "python",
   "pygments_lexer": "ipython3",
   "version": "3.9.16"
  }
 },
 "nbformat": 4,
 "nbformat_minor": 5
}
