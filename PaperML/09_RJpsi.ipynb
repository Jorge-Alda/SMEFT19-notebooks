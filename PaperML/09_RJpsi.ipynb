{
 "cells": [
  {
   "attachments": {},
   "cell_type": "markdown",
   "metadata": {},
   "source": [
    "# 9 R(J/psi)\n",
    "\n",
    "$R_{J/\\psi}$ including scalar and tensor WCs"
   ]
  },
  {
   "cell_type": "code",
   "execution_count": 20,
   "metadata": {},
   "outputs": [],
   "source": [
    "import SMEFT19\n",
    "import flavio\n",
    "from flavio.physics import ckm\n",
    "from wilson import Wilson\n",
    "from iminuit import Minuit\n",
    "pars = flavio.default_parameters.get_central_all()\n",
    "ckm_matrix = ckm.get_ckm(pars)\n",
    "LAMBDA = 1e3"
   ]
  },
  {
   "cell_type": "code",
   "execution_count": 4,
   "metadata": {},
   "outputs": [],
   "source": [
    "import smelli\n",
    "gl = smelli.GlobalLikelihood(include_likelihoods=[\"likelihood_rd_rds.yaml\"])"
   ]
  },
  {
   "cell_type": "code",
   "execution_count": 6,
   "metadata": {},
   "outputs": [
    {
     "data": {
      "text/plain": [
       "dict_keys(['Rtaul(B->Dlnu)', 'Rmue(B->D*lnu)', 'Rtaul(B->D*lnu)', 'Rtaumu(B->D*lnu)', 'Rtaumu(Bc->J/psilnu)'])"
      ]
     },
     "execution_count": 6,
     "metadata": {},
     "output_type": "execute_result"
    }
   ],
   "source": [
    "gl.obstable_sm.keys()"
   ]
  },
  {
   "cell_type": "code",
   "execution_count": 7,
   "metadata": {},
   "outputs": [],
   "source": [
    "bf = SMEFT19.ellipse.load(\"../data/ellipses/rotBII.yaml\")['bf']"
   ]
  },
  {
   "cell_type": "code",
   "execution_count": 8,
   "metadata": {},
   "outputs": [
    {
     "data": {
      "text/plain": [
       "array([-1.32284702e-01,  3.17441192e-02, -1.91839371e-05, -5.68394790e-02,\n",
       "        7.49809717e-01])"
      ]
     },
     "execution_count": 8,
     "metadata": {},
     "output_type": "execute_result"
    }
   ],
   "source": [
    "bf"
   ]
  },
  {
   "cell_type": "code",
   "execution_count": 13,
   "metadata": {},
   "outputs": [],
   "source": [
    "wcs = SMEFT19.scenarios.rotBII(bf)"
   ]
  },
  {
   "cell_type": "code",
   "execution_count": 85,
   "metadata": {},
   "outputs": [],
   "source": [
    "def fit(lequ1, lequ3, ledq):\n",
    "    wcs_RJpsi = Wilson(wcs.wc.values | {\n",
    "        'lequ1_3332': lequ1/LAMBDA**2,\n",
    "        'lequ3_3332': lequ3/LAMBDA**2,\n",
    "        'ledq_3332': ledq/LAMBDA**2\n",
    "        }, scale=LAMBDA, eft=\"SMEFT\", basis=\"Warsaw\")\n",
    "    glp = gl.parameter_point(wcs_RJpsi)\n",
    "    try:\n",
    "        return -glp.log_likelihood_global()\n",
    "    except:\n",
    "        return 10000"
   ]
  },
  {
   "cell_type": "code",
   "execution_count": 86,
   "metadata": {},
   "outputs": [],
   "source": [
    "m = Minuit(fit, lequ1=0.01, lequ3=0.01, ledq=0.01)"
   ]
  },
  {
   "cell_type": "code",
   "execution_count": 87,
   "metadata": {},
   "outputs": [
    {
     "data": {
      "text/html": [
       "<table>\n",
       "    <tr>\n",
       "        <th colspan=\"5\" style=\"text-align:center\" title=\"Minimizer\"> Migrad </th>\n",
       "    </tr>\n",
       "    <tr>\n",
       "        <td colspan=\"2\" style=\"text-align:left\" title=\"Minimum value of function\"> FCN = -16.23 </td>\n",
       "        <td colspan=\"3\" style=\"text-align:center\" title=\"Total number of function and (optional) gradient evaluations\"> Nfcn = 235 </td>\n",
       "    </tr>\n",
       "    <tr>\n",
       "        <td colspan=\"2\" style=\"text-align:left\" title=\"Estimated distance to minimum and goal\"> EDM = 0.000832 (Goal: 0.0002) </td>\n",
       "        <td colspan=\"3\" style=\"text-align:center\" title=\"Total run time of algorithms\">  </td>\n",
       "    </tr>\n",
       "    <tr>\n",
       "        <td colspan=\"2\" style=\"text-align:center;background-color:#92CCA6;color:black\"> Valid Minimum </td>\n",
       "        <td colspan=\"3\" style=\"text-align:center;background-color:#92CCA6;color:black\"> No Parameters at limit </td>\n",
       "    </tr>\n",
       "    <tr>\n",
       "        <td colspan=\"2\" style=\"text-align:center;background-color:#92CCA6;color:black\"> Below EDM threshold (goal x 10) </td>\n",
       "        <td colspan=\"3\" style=\"text-align:center;background-color:#92CCA6;color:black\"> Below call limit </td>\n",
       "    </tr>\n",
       "    <tr>\n",
       "        <td style=\"text-align:center;background-color:#92CCA6;color:black\"> Covariance </td>\n",
       "        <td style=\"text-align:center;background-color:#92CCA6;color:black\"> Hesse ok </td>\n",
       "        <td style=\"text-align:center;background-color:#FFF79A;color:black\" title=\"Is covariance matrix accurate?\"> APPROXIMATE </td>\n",
       "        <td style=\"text-align:center;background-color:#c15ef7;color:black\" title=\"Is covariance matrix positive definite?\"> NOT pos. def. </td>\n",
       "        <td style=\"text-align:center;background-color:#c15ef7;color:black\" title=\"Was positive definiteness enforced by Minuit?\"> FORCED </td>\n",
       "    </tr>\n",
       "</table><table>\n",
       "    <tr>\n",
       "        <td></td>\n",
       "        <th title=\"Variable name\"> Name </th>\n",
       "        <th title=\"Value of parameter\"> Value </th>\n",
       "        <th title=\"Hesse error\"> Hesse Error </th>\n",
       "        <th title=\"Minos lower error\"> Minos Error- </th>\n",
       "        <th title=\"Minos upper error\"> Minos Error+ </th>\n",
       "        <th title=\"Lower limit of the parameter\"> Limit- </th>\n",
       "        <th title=\"Upper limit of the parameter\"> Limit+ </th>\n",
       "        <th title=\"Is the parameter fixed in the fit\"> Fixed </th>\n",
       "    </tr>\n",
       "    <tr>\n",
       "        <th> 0 </th>\n",
       "        <td> lequ1 </td>\n",
       "        <td> -0.1 </td>\n",
       "        <td> 1.0 </td>\n",
       "        <td>  </td>\n",
       "        <td>  </td>\n",
       "        <td>  </td>\n",
       "        <td>  </td>\n",
       "        <td>  </td>\n",
       "    </tr>\n",
       "    <tr>\n",
       "        <th> 1 </th>\n",
       "        <td> lequ3 </td>\n",
       "        <td> 0.01 </td>\n",
       "        <td> 0.07 </td>\n",
       "        <td>  </td>\n",
       "        <td>  </td>\n",
       "        <td>  </td>\n",
       "        <td>  </td>\n",
       "        <td>  </td>\n",
       "    </tr>\n",
       "    <tr>\n",
       "        <th> 2 </th>\n",
       "        <td> ledq </td>\n",
       "        <td> 0.1 </td>\n",
       "        <td> 1.0 </td>\n",
       "        <td>  </td>\n",
       "        <td>  </td>\n",
       "        <td>  </td>\n",
       "        <td>  </td>\n",
       "        <td>  </td>\n",
       "    </tr>\n",
       "</table><table>\n",
       "    <tr>\n",
       "        <td></td>\n",
       "        <th> lequ1 </th>\n",
       "        <th> lequ3 </th>\n",
       "        <th> ledq </th>\n",
       "    </tr>\n",
       "    <tr>\n",
       "        <th> lequ1 </th>\n",
       "        <td> 0.949 </td>\n",
       "        <td style=\"background-color:rgb(125,125,250);color:black\"> -0.0639 <strong>(-0.962)</strong> </td>\n",
       "        <td style=\"background-color:rgb(120,120,250);color:black\"> -0.963 <strong>(-0.997)</strong> </td>\n",
       "    </tr>\n",
       "    <tr>\n",
       "        <th> lequ3 </th>\n",
       "        <td style=\"background-color:rgb(125,125,250);color:black\"> -0.0639 <strong>(-0.962)</strong> </td>\n",
       "        <td> 0.00465 </td>\n",
       "        <td style=\"background-color:rgb(250,105,105);color:black\"> 0.0655 <strong>(0.969)</strong> </td>\n",
       "    </tr>\n",
       "    <tr>\n",
       "        <th> ledq </th>\n",
       "        <td style=\"background-color:rgb(120,120,250);color:black\"> -0.963 <strong>(-0.997)</strong> </td>\n",
       "        <td style=\"background-color:rgb(250,105,105);color:black\"> 0.0655 <strong>(0.969)</strong> </td>\n",
       "        <td> 0.983 </td>\n",
       "    </tr>\n",
       "</table>"
      ],
      "text/plain": [
       "┌─────────────────────────────────────────────────────────────────────────┐\n",
       "│                                Migrad                                   │\n",
       "├──────────────────────────────────┬──────────────────────────────────────┤\n",
       "│ FCN = -16.23                     │              Nfcn = 235              │\n",
       "│ EDM = 0.000832 (Goal: 0.0002)    │                                      │\n",
       "├──────────────────────────────────┼──────────────────────────────────────┤\n",
       "│          Valid Minimum           │        No Parameters at limit        │\n",
       "├──────────────────────────────────┼──────────────────────────────────────┤\n",
       "│ Below EDM threshold (goal x 10)  │           Below call limit           │\n",
       "├───────────────┬──────────────────┼───────────┬─────────────┬────────────┤\n",
       "│  Covariance   │     Hesse ok     │APPROXIMATE│NOT pos. def.│   FORCED   │\n",
       "└───────────────┴──────────────────┴───────────┴─────────────┴────────────┘\n",
       "┌───┬───────┬───────────┬───────────┬────────────┬────────────┬─────────┬─────────┬───────┐\n",
       "│   │ Name  │   Value   │ Hesse Err │ Minos Err- │ Minos Err+ │ Limit-  │ Limit+  │ Fixed │\n",
       "├───┼───────┼───────────┼───────────┼────────────┼────────────┼─────────┼─────────┼───────┤\n",
       "│ 0 │ lequ1 │   -0.1    │    1.0    │            │            │         │         │       │\n",
       "│ 1 │ lequ3 │   0.01    │   0.07    │            │            │         │         │       │\n",
       "│ 2 │ ledq  │    0.1    │    1.0    │            │            │         │         │       │\n",
       "└───┴───────┴───────────┴───────────┴────────────┴────────────┴─────────┴─────────┴───────┘\n",
       "┌───────┬─────────────────────────┐\n",
       "│       │   lequ1   lequ3    ledq │\n",
       "├───────┼─────────────────────────┤\n",
       "│ lequ1 │   0.949 -0.0639  -0.963 │\n",
       "│ lequ3 │ -0.0639 0.00465  0.0655 │\n",
       "│  ledq │  -0.963  0.0655   0.983 │\n",
       "└───────┴─────────────────────────┘"
      ]
     },
     "execution_count": 87,
     "metadata": {},
     "output_type": "execute_result"
    }
   ],
   "source": [
    "m.migrad()\n",
    "m.hesse()"
   ]
  },
  {
   "cell_type": "code",
   "execution_count": 88,
   "metadata": {},
   "outputs": [
    {
     "data": {
      "text/plain": [
       "<ValueView lequ1=-0.128046580147828 lequ3=0.012980810784699218 ledq=0.14986212261520682>"
      ]
     },
     "execution_count": 88,
     "metadata": {},
     "output_type": "execute_result"
    }
   ],
   "source": [
    "m.values"
   ]
  },
  {
   "cell_type": "code",
   "execution_count": 89,
   "metadata": {},
   "outputs": [],
   "source": [
    "wcs_RJpsi = Wilson(wcs.wc.values | {\n",
    "        'lequ1_3332': -0.128046580147828/LAMBDA**2,\n",
    "        'lequ3_3332': 0.012980810784699218/LAMBDA**2,\n",
    "        'ledq_3332': 0.14986212261520682/LAMBDA**2\n",
    "        }, scale=LAMBDA, eft=\"SMEFT\", basis=\"Warsaw\")"
   ]
  },
  {
   "cell_type": "code",
   "execution_count": 93,
   "metadata": {},
   "outputs": [
    {
     "data": {
      "text/plain": [
       "0.31091849163957863"
      ]
     },
     "execution_count": 93,
     "metadata": {},
     "output_type": "execute_result"
    }
   ],
   "source": [
    "flavio.np_prediction(\"Rtaumu(Bc->J/psilnu)\", wcs)"
   ]
  },
  {
   "cell_type": "code",
   "execution_count": 90,
   "metadata": {},
   "outputs": [
    {
     "data": {
      "text/plain": [
       "0.3150278741056848"
      ]
     },
     "execution_count": 90,
     "metadata": {},
     "output_type": "execute_result"
    }
   ],
   "source": [
    "flavio.np_prediction(\"Rtaumu(Bc->J/psilnu)\", wcs_RJpsi)"
   ]
  },
  {
   "cell_type": "code",
   "execution_count": 94,
   "metadata": {},
   "outputs": [
    {
     "data": {
      "text/plain": [
       "0.3566379003340265"
      ]
     },
     "execution_count": 94,
     "metadata": {},
     "output_type": "execute_result"
    }
   ],
   "source": [
    "flavio.np_prediction(\"Rtaul(B->Dlnu)\", wcs)"
   ]
  },
  {
   "cell_type": "code",
   "execution_count": 91,
   "metadata": {},
   "outputs": [
    {
     "data": {
      "text/plain": [
       "0.34496483575075126"
      ]
     },
     "execution_count": 91,
     "metadata": {},
     "output_type": "execute_result"
    }
   ],
   "source": [
    "flavio.np_prediction(\"Rtaul(B->Dlnu)\", wcs_RJpsi)"
   ]
  },
  {
   "cell_type": "code",
   "execution_count": 95,
   "metadata": {},
   "outputs": [
    {
     "data": {
      "text/plain": [
       "0.2938974704453059"
      ]
     },
     "execution_count": 95,
     "metadata": {},
     "output_type": "execute_result"
    }
   ],
   "source": [
    "flavio.np_prediction(\"Rtaul(B->D*lnu)\", wcs)"
   ]
  },
  {
   "cell_type": "code",
   "execution_count": 92,
   "metadata": {},
   "outputs": [
    {
     "data": {
      "text/plain": [
       "0.29668912612283777"
      ]
     },
     "execution_count": 92,
     "metadata": {},
     "output_type": "execute_result"
    }
   ],
   "source": [
    "flavio.np_prediction(\"Rtaul(B->D*lnu)\", wcs_RJpsi)"
   ]
  },
  {
   "cell_type": "code",
   "execution_count": 96,
   "metadata": {},
   "outputs": [],
   "source": [
    "wet_RJpsi = wcs_RJpsi.match_run(4.8, \"WET\", \"flavio\")"
   ]
  },
  {
   "cell_type": "code",
   "execution_count": 97,
   "metadata": {},
   "outputs": [
    {
     "data": {
      "text/plain": [
       "(0.14562199228354356-3.325261943496221e-08j)"
      ]
     },
     "execution_count": 97,
     "metadata": {},
     "output_type": "execute_result"
    }
   ],
   "source": [
    "wet_RJpsi['CSL_bctaunutau']"
   ]
  },
  {
   "cell_type": "code",
   "execution_count": 98,
   "metadata": {},
   "outputs": [
    {
     "data": {
      "text/plain": [
       "(-0.16376345448506177+5.9120100030470665e-06j)"
      ]
     },
     "execution_count": 98,
     "metadata": {},
     "output_type": "execute_result"
    }
   ],
   "source": [
    "wet_RJpsi['CSR_bctaunutau']"
   ]
  },
  {
   "cell_type": "code",
   "execution_count": 99,
   "metadata": {},
   "outputs": [
    {
     "data": {
      "text/plain": [
       "(-0.008516488926291877+1.9447030011382533e-09j)"
      ]
     },
     "execution_count": 99,
     "metadata": {},
     "output_type": "execute_result"
    }
   ],
   "source": [
    "wet_RJpsi['CT_bctaunutau']"
   ]
  },
  {
   "cell_type": "code",
   "execution_count": null,
   "metadata": {},
   "outputs": [],
   "source": []
  }
 ],
 "metadata": {
  "kernelspec": {
   "display_name": "Python 3",
   "language": "python",
   "name": "python3"
  },
  "language_info": {
   "codemirror_mode": {
    "name": "ipython",
    "version": 3
   },
   "file_extension": ".py",
   "mimetype": "text/x-python",
   "name": "python",
   "nbconvert_exporter": "python",
   "pygments_lexer": "ipython3",
   "version": "3.9.16"
  },
  "orig_nbformat": 4
 },
 "nbformat": 4,
 "nbformat_minor": 2
}
