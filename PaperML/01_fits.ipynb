{
 "cells": [
  {
   "cell_type": "markdown",
   "metadata": {},
   "source": [
    "# 01: Fits"
   ]
  },
  {
   "cell_type": "code",
   "execution_count": 58,
   "metadata": {},
   "outputs": [],
   "source": [
    "import SMEFT19\n",
    "import numpy as np\n",
    "import matplotlib.pyplot as plt\n",
    "import pandas as pd\n",
    "from flavio.statistics.functions import pull, pvalue"
   ]
  },
  {
   "cell_type": "markdown",
   "metadata": {},
   "source": [
    "## Scenario I\n",
    "Fit only to `C`, `beta_l` and `beta_q`"
   ]
  },
  {
   "cell_type": "code",
   "execution_count": 5,
   "metadata": {},
   "outputs": [],
   "source": [
    "def fit(x):\n",
    "    return -SMEFT19.likelihood_global(x, SMEFT19.scenarios.rotBI)"
   ]
  },
  {
   "cell_type": "code",
   "execution_count": 3,
   "metadata": {},
   "outputs": [
    {
     "name": "stdout",
     "output_type": "stream",
     "text": [
      "Minimizing...\n",
      "Pull: 5.832605775902271 sigma\n"
     ]
    }
   ],
   "source": [
    "bf, v, d, L = SMEFT19.ellipse.minimum(fit, [-0.117, 0, 0.751])"
   ]
  },
  {
   "cell_type": "code",
   "execution_count": 6,
   "metadata": {},
   "outputs": [
    {
     "data": {
      "text/plain": [
       "array([-1.20243556e-01,  3.66656452e-09,  7.79707015e-01])"
      ]
     },
     "execution_count": 6,
     "metadata": {},
     "output_type": "execute_result"
    }
   ],
   "source": [
    "bf"
   ]
  },
  {
   "cell_type": "code",
   "execution_count": 7,
   "metadata": {},
   "outputs": [
    {
     "data": {
      "text/plain": [
       "41.37047864622824"
      ]
     },
     "execution_count": 7,
     "metadata": {},
     "output_type": "execute_result"
    }
   ],
   "source": [
    "-2*L"
   ]
  },
  {
   "cell_type": "code",
   "execution_count": 59,
   "metadata": {},
   "outputs": [
    {
     "data": {
      "text/plain": [
       "5.456838980677503e-09"
      ]
     },
     "execution_count": 59,
     "metadata": {},
     "output_type": "execute_result"
    }
   ],
   "source": [
    "pvalue(-2*L, 3)"
   ]
  },
  {
   "cell_type": "code",
   "execution_count": 8,
   "metadata": {},
   "outputs": [],
   "source": [
    "SMEFT19.ellipse.save(bf, v, d, L, '../data/ellipses/rotBI.yaml', name='Mass Rotation fit, Scenario I',\n",
    "                     fit='rotBI')"
   ]
  },
  {
   "cell_type": "markdown",
   "metadata": {},
   "source": [
    "### Confidence intervals scenario I"
   ]
  },
  {
   "cell_type": "code",
   "execution_count": 9,
   "metadata": {},
   "outputs": [
    {
     "data": {
      "text/plain": [
       "3.5267403802617303"
      ]
     },
     "execution_count": 9,
     "metadata": {},
     "output_type": "execute_result"
    }
   ],
   "source": [
    "dchi = SMEFT19.SMEFTglob.smelli.flavio.statistics.functions.delta_chi2(1,3)\n",
    "dchi"
   ]
  },
  {
   "cell_type": "code",
   "execution_count": 10,
   "metadata": {},
   "outputs": [],
   "source": [
    "delta_C = []\n",
    "for err in np.linspace(-0.10, 0.10, 20):\n",
    "    delta_C.append(fit(np.array(bf) + np.array([err,0,0]))-L)"
   ]
  },
  {
   "cell_type": "code",
   "execution_count": 11,
   "metadata": {},
   "outputs": [
    {
     "data": {
      "text/html": [
       "[<matplotlib.lines.Line2D object at 0x7ff7377c5700>]"
      ],
      "text/plain": [
       "[<matplotlib.lines.Line2D at 0x7ff7377c5700>]"
      ]
     },
     "execution_count": 11,
     "metadata": {},
     "output_type": "execute_result"
    },
    {
     "data": {
      "image/png": "[encoded data removed]",
      "text/plain": [
       "<Figure size 432x288 with 1 Axes>"
      ]
     },
     "metadata": {
      "needs_background": "light"
     },
     "output_type": "display_data"
    }
   ],
   "source": [
    "plt.plot(np.linspace(-0.10, 0.10, 20), delta_C)\n",
    "plt.plot([-0.1, 0.1], [dchi,dchi])"
   ]
  },
  {
   "cell_type": "markdown",
   "metadata": {},
   "source": [
    "**Error in C:** $\\pm 0.05$ "
   ]
  },
  {
   "cell_type": "code",
   "execution_count": 12,
   "metadata": {},
   "outputs": [],
   "source": [
    "delta_bl = []\n",
    "for err in np.linspace(-0.1, 0.1, 20):\n",
    "    delta_bl.append(fit(np.array(bf) - np.array([0,err,0]))-L)"
   ]
  },
  {
   "cell_type": "code",
   "execution_count": 13,
   "metadata": {},
   "outputs": [
    {
     "data": {
      "text/html": [
       "[<matplotlib.lines.Line2D object at 0x7ff737719c10>]"
      ],
      "text/plain": [
       "[<matplotlib.lines.Line2D at 0x7ff737719c10>]"
      ]
     },
     "execution_count": 13,
     "metadata": {},
     "output_type": "execute_result"
    },
    {
     "data": {
      "image/png": "[encoded data removed]",
      "text/plain": [
       "<Figure size 432x288 with 1 Axes>"
      ]
     },
     "metadata": {
      "needs_background": "light"
     },
     "output_type": "display_data"
    }
   ],
   "source": [
    "plt.plot(np.linspace(-0.1, 0.1, 20), delta_bl)\n",
    "plt.plot([-0.1, 0.1], [dchi, dchi])"
   ]
  },
  {
   "cell_type": "markdown",
   "metadata": {},
   "source": [
    "**Error in $\\beta^\\ell$:** $\\pm 0.025$"
   ]
  },
  {
   "cell_type": "code",
   "execution_count": 14,
   "metadata": {},
   "outputs": [],
   "source": [
    "delta_bq = []\n",
    "for err in np.linspace(-2.0, 2.0, 20):\n",
    "    delta_bq.append(fit(np.array(bf) + np.array([0,0,err]))-L)"
   ]
  },
  {
   "cell_type": "code",
   "execution_count": 15,
   "metadata": {},
   "outputs": [
    {
     "data": {
      "text/plain": [
       "(-1.0, 2.0)"
      ]
     },
     "execution_count": 15,
     "metadata": {},
     "output_type": "execute_result"
    },
    {
     "data": {
      "image/png": "[encoded data removed]",
      "text/plain": [
       "<Figure size 432x288 with 1 Axes>"
      ]
     },
     "metadata": {
      "needs_background": "light"
     },
     "output_type": "display_data"
    }
   ],
   "source": [
    "plt.plot(np.linspace(-2, 2, 20), delta_bq)\n",
    "plt.plot([-2, 2], [dchi, dchi])\n",
    "plt.xlim([-1,2])"
   ]
  },
  {
   "cell_type": "markdown",
   "metadata": {},
   "source": [
    "**Error in $\\beta^q$:** ${}^{+2.0}_{-0.5}$"
   ]
  },
  {
   "cell_type": "markdown",
   "metadata": {},
   "source": [
    "## Scenario II\n",
    "Fit to all parameters"
   ]
  },
  {
   "cell_type": "code",
   "execution_count": 16,
   "metadata": {},
   "outputs": [],
   "source": [
    "def fit2(x):\n",
    "    return -SMEFT19.likelihood_global(x, SMEFT19.scenarios.rotBII)"
   ]
  },
  {
   "cell_type": "code",
   "execution_count": 17,
   "metadata": {},
   "outputs": [
    {
     "name": "stdout",
     "output_type": "stream",
     "text": [
      "Minimizing...\n",
      "Pull: 6.698460199271297 sigma\n"
     ]
    }
   ],
   "source": [
    "bf2, v2, d2, L2 = SMEFT19.ellipse.minimum(fit2, [-0.12, 0.07, 0, -0.076, 0.803])"
   ]
  },
  {
   "cell_type": "code",
   "execution_count": 18,
   "metadata": {},
   "outputs": [
    {
     "data": {
      "text/plain": [
       "array([-1.23230579e-01,  7.38813980e-02, -6.96147400e-09, -7.14576546e-02,\n",
       "        7.11839814e-01])"
      ]
     },
     "execution_count": 18,
     "metadata": {},
     "output_type": "execute_result"
    }
   ],
   "source": [
    "bf2"
   ]
  },
  {
   "cell_type": "code",
   "execution_count": 19,
   "metadata": {},
   "outputs": [
    {
     "data": {
      "text/plain": [
       "58.84397165603657"
      ]
     },
     "execution_count": 19,
     "metadata": {},
     "output_type": "execute_result"
    }
   ],
   "source": [
    "-2*L2"
   ]
  },
  {
   "cell_type": "code",
   "execution_count": 60,
   "metadata": {},
   "outputs": [
    {
     "data": {
      "text/plain": [
       "2.106270713397862e-11"
      ]
     },
     "execution_count": 60,
     "metadata": {},
     "output_type": "execute_result"
    }
   ],
   "source": [
    "pvalue(-2*L2, 5)"
   ]
  },
  {
   "cell_type": "code",
   "execution_count": 20,
   "metadata": {},
   "outputs": [],
   "source": [
    "SMEFT19.ellipse.save(bf2, v2, d2, L2, '../data/ellipses/rotBII.yaml', name='Mass Rotation fit, Scenario II',\n",
    "                     fit='rotBII')"
   ]
  },
  {
   "cell_type": "markdown",
   "metadata": {},
   "source": [
    "### Confidence intervals scenario II"
   ]
  },
  {
   "cell_type": "code",
   "execution_count": 21,
   "metadata": {},
   "outputs": [
    {
     "data": {
      "text/plain": [
       "5.887595445915204"
      ]
     },
     "execution_count": 21,
     "metadata": {},
     "output_type": "execute_result"
    }
   ],
   "source": [
    "dchi = SMEFT19.SMEFTglob.smelli.flavio.statistics.functions.delta_chi2(1,5)\n",
    "dchi"
   ]
  },
  {
   "cell_type": "code",
   "execution_count": 22,
   "metadata": {},
   "outputs": [],
   "source": [
    "delta_C = []\n",
    "for err in np.linspace(-0.10, 0.10, 20):\n",
    "    delta_C.append(fit2(np.array(bf2) + np.array([err,0,0,0,0]))-L)"
   ]
  },
  {
   "cell_type": "code",
   "execution_count": 23,
   "metadata": {},
   "outputs": [
    {
     "data": {
      "text/html": [
       "[<matplotlib.lines.Line2D object at 0x7ff7375c85b0>]"
      ],
      "text/plain": [
       "[<matplotlib.lines.Line2D at 0x7ff7375c85b0>]"
      ]
     },
     "execution_count": 23,
     "metadata": {},
     "output_type": "execute_result"
    },
    {
     "data": {
      "image/png": "[encoded data removed]",
      "text/plain": [
       "<Figure size 432x288 with 1 Axes>"
      ]
     },
     "metadata": {
      "needs_background": "light"
     },
     "output_type": "display_data"
    }
   ],
   "source": [
    "plt.plot(np.linspace(-0.10, 0.10, 20), delta_C)\n",
    "plt.plot([-0.1, 0.1], [dchi, dchi])"
   ]
  },
  {
   "cell_type": "markdown",
   "metadata": {},
   "source": [
    "**Error in C:** $\\pm 0.08$"
   ]
  },
  {
   "cell_type": "code",
   "execution_count": 24,
   "metadata": {},
   "outputs": [],
   "source": [
    "delta_al = []\n",
    "for err in np.linspace(-0.07, 0.07, 20):\n",
    "    delta_al.append(fit2(np.array(bf2) + np.array([0,err,0,0,0]))-L)"
   ]
  },
  {
   "cell_type": "code",
   "execution_count": 25,
   "metadata": {},
   "outputs": [
    {
     "data": {
      "text/html": [
       "[<matplotlib.lines.Line2D object at 0x7ff7376ca220>]"
      ],
      "text/plain": [
       "[<matplotlib.lines.Line2D at 0x7ff7376ca220>]"
      ]
     },
     "execution_count": 25,
     "metadata": {},
     "output_type": "execute_result"
    },
    {
     "data": {
      "image/png": "[encoded data removed]",
      "text/plain": [
       "<Figure size 432x288 with 1 Axes>"
      ]
     },
     "metadata": {
      "needs_background": "light"
     },
     "output_type": "display_data"
    }
   ],
   "source": [
    "plt.plot(np.linspace(-0.07, 0.07, 20), delta_al)\n",
    "plt.plot([-0.07, 0.07], [dchi, dchi])"
   ]
  },
  {
   "cell_type": "markdown",
   "metadata": {},
   "source": [
    "**Error in $\\alpha^\\ell$:** ${}_{-0.07}^{+0.04}$"
   ]
  },
  {
   "cell_type": "code",
   "execution_count": 26,
   "metadata": {},
   "outputs": [],
   "source": [
    "delta_bl = []\n",
    "for err in np.linspace(-0.06, 0.06, 20):\n",
    "    delta_bl.append(fit2(np.array(bf2) - np.array([0,0,err,0,0]))-L)"
   ]
  },
  {
   "cell_type": "code",
   "execution_count": 27,
   "metadata": {},
   "outputs": [
    {
     "data": {
      "text/plain": [
       "(-10.0, 80.0)"
      ]
     },
     "execution_count": 27,
     "metadata": {},
     "output_type": "execute_result"
    },
    {
     "data": {
      "image/png": "[encoded data removed]",
      "text/plain": [
       "<Figure size 432x288 with 1 Axes>"
      ]
     },
     "metadata": {
      "needs_background": "light"
     },
     "output_type": "display_data"
    }
   ],
   "source": [
    "plt.plot(np.linspace(-0.06, 0.06, 20), delta_bl)\n",
    "plt.plot([-0.06, 0.06], [dchi, dchi])\n",
    "plt.xlim([-0.04, 0.04])\n",
    "plt.ylim([-10, 80])"
   ]
  },
  {
   "cell_type": "markdown",
   "metadata": {},
   "source": [
    "**Error in $\\beta^\\ell$:** $\\pm0.025$"
   ]
  },
  {
   "cell_type": "code",
   "execution_count": 28,
   "metadata": {},
   "outputs": [],
   "source": [
    "delta_aq = []\n",
    "for err in np.linspace(-0.15, 0.07, 20):\n",
    "    delta_aq.append(fit2(np.array(bf2) - np.array([0,0,0,err,0]))-L)"
   ]
  },
  {
   "cell_type": "code",
   "execution_count": 29,
   "metadata": {},
   "outputs": [
    {
     "data": {
      "text/plain": [
       "(-0.12, 0.07)"
      ]
     },
     "execution_count": 29,
     "metadata": {},
     "output_type": "execute_result"
    },
    {
     "data": {
      "image/png": "[encoded data removed]",
      "text/plain": [
       "<Figure size 432x288 with 1 Axes>"
      ]
     },
     "metadata": {
      "needs_background": "light"
     },
     "output_type": "display_data"
    }
   ],
   "source": [
    "plt.plot(np.linspace(-0.15, 0.07, 20), delta_aq)\n",
    "plt.plot([-0.15, 0.07], [dchi, dchi])\n",
    "plt.xlim([-0.12, 0.07])"
   ]
  },
  {
   "cell_type": "markdown",
   "metadata": {},
   "source": [
    "**Error in $\\alpha^q$:** ${}_{-0.07}^{+0.12}$"
   ]
  },
  {
   "cell_type": "code",
   "execution_count": 30,
   "metadata": {},
   "outputs": [],
   "source": [
    "delta_bq = []\n",
    "for err in np.linspace(-0.7, 2.8, 20):\n",
    "    delta_bq.append(fit2(np.array(bf2) + np.array([0,0,0,0,err]))-L)"
   ]
  },
  {
   "cell_type": "code",
   "execution_count": 31,
   "metadata": {},
   "outputs": [
    {
     "data": {
      "text/html": [
       "[<matplotlib.lines.Line2D object at 0x7ff7375cb2b0>]"
      ],
      "text/plain": [
       "[<matplotlib.lines.Line2D at 0x7ff7375cb2b0>]"
      ]
     },
     "execution_count": 31,
     "metadata": {},
     "output_type": "execute_result"
    },
    {
     "data": {
      "image/png": "[encoded data removed]",
      "text/plain": [
       "<Figure size 432x288 with 1 Axes>"
      ]
     },
     "metadata": {
      "needs_background": "light"
     },
     "output_type": "display_data"
    }
   ],
   "source": [
    "plt.plot(np.linspace(-0.7, 2.8, 20), delta_bq)\n",
    "plt.plot([-0.7,2.8], [dchi, dchi])"
   ]
  },
  {
   "cell_type": "markdown",
   "metadata": {},
   "source": [
    "**Error in $\\beta^q$:** ${}^{+2.8}_{-0.6}$"
   ]
  },
  {
   "cell_type": "code",
   "execution_count": 32,
   "metadata": {},
   "outputs": [
    {
     "data": {
      "text/plain": [
       "3.7741168784317796"
      ]
     },
     "execution_count": 32,
     "metadata": {},
     "output_type": "execute_result"
    }
   ],
   "source": [
    "pull(2*(L-L2), 2)"
   ]
  },
  {
   "cell_type": "markdown",
   "metadata": {},
   "source": [
    "### Matrix $\\lambda^\\ell$"
   ]
  },
  {
   "cell_type": "code",
   "execution_count": 33,
   "metadata": {},
   "outputs": [
    {
     "data": {
      "text/plain": [
       "matrix([[ 5.42882793e-03, -5.11531258e-10,  7.34803086e-02],\n",
       "        [-5.11531258e-10,  4.81990278e-17, -6.92368136e-09],\n",
       "        [ 7.34803086e-02, -6.92368136e-09,  9.94571172e-01]])"
      ]
     },
     "execution_count": 33,
     "metadata": {},
     "output_type": "execute_result"
    }
   ],
   "source": [
    "SMEFT19.scenarios.idemp(bf2[1], bf2[2])"
   ]
  },
  {
   "cell_type": "code",
   "execution_count": 34,
   "metadata": {},
   "outputs": [],
   "source": [
    "al = np.random.uniform(0, 0.11, 200)\n",
    "bl = np.random.uniform(-0.025, 0.025, 200)"
   ]
  },
  {
   "cell_type": "code",
   "execution_count": 35,
   "metadata": {},
   "outputs": [],
   "source": [
    "ll = []\n",
    "for i in range(200):\n",
    "    ll.append(SMEFT19.scenarios.idemp(al[i], bl[i]))"
   ]
  },
  {
   "cell_type": "code",
   "execution_count": 36,
   "metadata": {},
   "outputs": [
    {
     "data": {
      "text/plain": [
       "array([[0.00375811, 0.00092295, 0.03230599],\n",
       "       [0.00092295, 0.00017737, 0.0138965 ],\n",
       "       [0.03230599, 0.0138965 , 0.00377074]])"
      ]
     },
     "execution_count": 36,
     "metadata": {},
     "output_type": "execute_result"
    }
   ],
   "source": [
    "np.std(ll, axis=0)"
   ]
  },
  {
   "cell_type": "markdown",
   "metadata": {},
   "source": [
    "### Matrix $\\lambda^q$"
   ]
  },
  {
   "cell_type": "code",
   "execution_count": 37,
   "metadata": {},
   "outputs": [
    {
     "data": {
      "text/plain": [
       "matrix([[ 0.00337751, -0.03364576, -0.04726591],\n",
       "        [-0.03364576,  0.33516901,  0.47084892],\n",
       "        [-0.04726591,  0.47084892,  0.66145348]])"
      ]
     },
     "execution_count": 37,
     "metadata": {},
     "output_type": "execute_result"
    }
   ],
   "source": [
    "SMEFT19.scenarios.idemp(bf2[3], bf2[4])"
   ]
  },
  {
   "cell_type": "code",
   "execution_count": 38,
   "metadata": {},
   "outputs": [],
   "source": [
    "aq = np.random.uniform(bf2[3]-0.07, bf2[3]+0.12, 200)\n",
    "bq = np.random.uniform(bf2[4]-0.6, bf2[4]+2.8, 200)"
   ]
  },
  {
   "cell_type": "code",
   "execution_count": 39,
   "metadata": {},
   "outputs": [],
   "source": [
    "lq = []\n",
    "for i in range(200):\n",
    "    lq.append(SMEFT19.scenarios.idemp(aq[i], bq[i]))"
   ]
  },
  {
   "cell_type": "code",
   "execution_count": 40,
   "metadata": {},
   "outputs": [
    {
     "data": {
      "text/plain": [
       "array([[0.00300697, 0.02093177, 0.02899252],\n",
       "       [0.02093177, 0.28690303, 0.0863991 ],\n",
       "       [0.02899252, 0.0863991 , 0.28537943]])"
      ]
     },
     "execution_count": 40,
     "metadata": {},
     "output_type": "execute_result"
    }
   ],
   "source": [
    "np.std(lq, axis=0)"
   ]
  },
  {
   "cell_type": "markdown",
   "metadata": {},
   "source": [
    "### Wilson coefficients"
   ]
  },
  {
   "cell_type": "code",
   "execution_count": 41,
   "metadata": {},
   "outputs": [],
   "source": [
    "w = SMEFT19.scenarios.rotBII(bf2)\n",
    "w2 = w.match_run(eft='WET', basis='flavio', scale=4.8)"
   ]
  },
  {
   "cell_type": "code",
   "execution_count": 42,
   "metadata": {},
   "outputs": [
    {
     "name": "stdout",
     "output_type": "stream",
     "text": [
      "C9e = -0.2485912590864919\n",
      "C10e = -0.3622511983548864\n",
      "C9mu = -0.6089555308639718\n",
      "C10mu = -0.001886926577509734\n",
      "CVLtau = 0.08920965126960981\n"
     ]
    }
   ],
   "source": [
    "C9 = w2.values['C9_bsmumu']['Re']\n",
    "C10 = w2.values['C10_bsmumu']['Re']\n",
    "C9e = w2.values['C9_bsee']['Re']\n",
    "C10e = w2.values['C10_bsee']['Re']\n",
    "Ctau = w2.values['CVL_bctaunutau']['Re']\n",
    "print(f'C9e = {C9e}')\n",
    "print(f'C10e = {C10e}')\n",
    "print(f'C9mu = {C9}')\n",
    "print(f'C10mu = {C10}')\n",
    "print(f'CVLtau = {Ctau}')"
   ]
  },
  {
   "cell_type": "code",
   "execution_count": 43,
   "metadata": {},
   "outputs": [
    {
     "data": {
      "text/plain": [
       "-0.2467043325090854"
      ]
     },
     "execution_count": 43,
     "metadata": {},
     "output_type": "execute_result"
    }
   ],
   "source": [
    "-C10e+C9"
   ]
  },
  {
   "cell_type": "code",
   "execution_count": 44,
   "metadata": {},
   "outputs": [],
   "source": [
    "Clq = np.random.uniform(bf2[0]-0.08, bf2[0]+0.08, 200)"
   ]
  },
  {
   "cell_type": "code",
   "execution_count": 45,
   "metadata": {},
   "outputs": [],
   "source": [
    "WC = [[], [], [], [], []]\n",
    "for i in range(200):\n",
    "    w = SMEFT19.scenarios.rotBII((Clq[i], al[i], bl[i], aq[i], bq[i]))\n",
    "    w2 = w.match_run(eft='WET', basis='flavio', scale=4.8)\n",
    "    WC[0].append(w2.values['C9_bsmumu']['Re'])\n",
    "    WC[1].append(w2.values['C10_bsmumu']['Re'])\n",
    "    WC[2].append(w2.values['C9_bsee']['Re'])\n",
    "    WC[3].append(w2.values['C10_bsee']['Re'])\n",
    "    WC[4].append(w2.values['CVL_bctaunutau']['Re'])"
   ]
  },
  {
   "cell_type": "code",
   "execution_count": 46,
   "metadata": {},
   "outputs": [
    {
     "data": {
      "text/plain": [
       "array([0.21452082, 0.01140372, 0.24837839, 0.23098781, 0.03112214])"
      ]
     },
     "execution_count": 46,
     "metadata": {},
     "output_type": "execute_result"
    }
   ],
   "source": [
    "np.std(WC, axis=1)"
   ]
  },
  {
   "cell_type": "markdown",
   "metadata": {},
   "source": [
    "## Observable Pulls"
   ]
  },
  {
   "cell_type": "code",
   "execution_count": 47,
   "metadata": {},
   "outputs": [],
   "source": [
    "SMEFT19.comparepulls.compare(SMEFT19.scenarios.rotBII, '../data/ellipses/rotBII.yaml', '../data/TeX/pullsBII')"
   ]
  },
  {
   "cell_type": "markdown",
   "metadata": {},
   "source": [
    "[Link to the table](https://github.com/Jorge-Alda/SMEFT19/blob/master/TeX/standalone_pullsBII.pdf)"
   ]
  },
  {
   "cell_type": "code",
   "execution_count": 48,
   "metadata": {},
   "outputs": [
    {
     "data": {
      "image/png": "[encoded data removed]",
      "text/plain": [
       "<Figure size 432x288 with 1 Axes>"
      ]
     },
     "metadata": {
      "needs_background": "light"
     },
     "output_type": "display_data"
    }
   ],
   "source": [
    "SMEFT19.plots.compare_plot(SMEFT19.scenarios.rotBII, '../data/ellipses/rotBII.yaml', '../data/plots/rotBII', 1.5)"
   ]
  },
  {
   "cell_type": "code",
   "execution_count": 49,
   "metadata": {},
   "outputs": [],
   "source": [
    "evo = [0]*5\n",
    "ranges = [[-0.08, 0.08], [-0.18, 0.07], [-0.025, 0.025], [-0.07, 0.12], [-0.6,2.8]]\n",
    "labels = [r'$C$', r'$\\alpha^\\ell$', r'$\\beta^\\ell$', r'$\\alpha^q$', r'$\\beta^q$']\n",
    "labelsplain = ['C', 'alphal', 'betal', 'alphaq', 'betaq']\n",
    "fits = ['RK', 'RD', 'LFV', 'global']\n",
    "fitcodes = {'RK':'likelihood_lfu_fcnc.yaml', 'RD':'likelihood_rd_rds.yaml',\n",
    "            'LFV':'likelihood_lfv.yaml', 'global':'global'}\n",
    "fitlabels = {'RK':r'$R_{K^{(*)}}$', 'RD':r'$R_{D^{(*)}}$',  'LFV':'LFV', 'global':'Global'}\n",
    "fitcolors = {'RK':(0.8941176470588236, 0.10196078431372549, 0.10980392156862745),\n",
    "             'RD':(0.21568627450980393, 0.49411764705882355, 0.7215686274509804),\n",
    "             'LFV':(0.30196078431372547, 0.6862745098039216, 0.2901960784313726),\n",
    "             'global':(1.0, 0.4980392156862745, 0.0)}"
   ]
  },
  {
   "cell_type": "code",
   "execution_count": 53,
   "metadata": {},
   "outputs": [],
   "source": [
    "for i in range(5):\n",
    "    xvalues = bf2[i] + np.linspace(ranges[i][0], ranges[i][1], 200)\n",
    "    evoi = []\n",
    "    for x in xvalues:\n",
    "        bfx = bf2.copy()\n",
    "        bfx[i] = x\n",
    "        evoi.append(SMEFT19.likelihood_fits(bfx, SMEFT19.scenarios.rotBII))\n",
    "    evo[i] = evoi"
   ]
  },
  {
   "cell_type": "code",
   "execution_count": 54,
   "metadata": {},
   "outputs": [
    {
     "data": {
      "image/png": "[encoded data removed]",
      "text/plain": [
       "<Figure size 432x288 with 1 Axes>"
      ]
     },
     "metadata": {
      "needs_background": "light"
     },
     "output_type": "display_data"
    },
    {
     "data": {
      "image/png": "[encoded data removed]",
      "text/plain": [
       "<Figure size 432x288 with 1 Axes>"
      ]
     },
     "metadata": {
      "needs_background": "light"
     },
     "output_type": "display_data"
    },
    {
     "data": {
      "image/png": "[encoded data removed]",
      "text/plain": [
       "<Figure size 432x288 with 1 Axes>"
      ]
     },
     "metadata": {
      "needs_background": "light"
     },
     "output_type": "display_data"
    },
    {
     "data": {
      "image/png": "[encoded data removed]",
      "text/plain": [
       "<Figure size 432x288 with 1 Axes>"
      ]
     },
     "metadata": {
      "needs_background": "light"
     },
     "output_type": "display_data"
    },
    {
     "data": {
      "image/png": "[encoded data removed]",
      "text/plain": [
       "<Figure size 432x288 with 1 Axes>"
      ]
     },
     "metadata": {
      "needs_background": "light"
     },
     "output_type": "display_data"
    }
   ],
   "source": [
    "for i in range(5):\n",
    "    xvalues = bf2[i] + np.linspace(ranges[i][0], ranges[i][1], 200)\n",
    "    fig = plt.figure()\n",
    "    for f in fits:\n",
    "        plt.plot(xvalues, -pd.DataFrame(evo[i])[fitcodes[f]], lw=1.5, label=fitlabels[f], color=fitcolors[f])\n",
    "    plt.ylim([-40,40])\n",
    "    plt.xlim([bf2[i]+ranges[i][0], bf2[i]+ranges[i][1]])\n",
    "    plt.legend(fontsize=16)\n",
    "    plt.xlabel(labels[i], fontsize=20)\n",
    "    plt.ylabel(r'$\\Delta \\log L$', fontsize=20)\n",
    "    plt.tight_layout(pad=0.5)\n",
    "    fig.savefig(f'../data/plots/evoplot_{labelsplain[i]}.pdf')\n",
    "    fig.savefig(f'../data/plots/evoplot_{labelsplain[i]}.pgf')"
   ]
  },
  {
   "cell_type": "markdown",
   "metadata": {},
   "source": [
    "## Leptoquark couplings"
   ]
  },
  {
   "cell_type": "code",
   "execution_count": 55,
   "metadata": {},
   "outputs": [
    {
     "name": "stderr",
     "output_type": "stream",
     "text": [
      "Casting complex values to real discards the imaginary part\n"
     ]
    },
    {
     "data": {
      "text/plain": [
       "matrix([[0.00000000e+00, 0.00000000e+00, 0.00000000e+00],\n",
       "        [0.00000000e+00, 1.65841267e-09, 4.52306965e-01],\n",
       "        [0.00000000e+00, 2.12696902e-09, 5.80098622e-01]])"
      ]
     },
     "execution_count": 55,
     "metadata": {},
     "output_type": "execute_result"
    }
   ],
   "source": [
    "SMEFT19.scenarios.rot2lqU1(bf)"
   ]
  },
  {
   "cell_type": "code",
   "execution_count": 57,
   "metadata": {},
   "outputs": [
    {
     "name": "stderr",
     "output_type": "stream",
     "text": [
      "Casting complex values to real discards the imaginary part\n"
     ]
    },
    {
     "data": {
      "text/plain": [
       "matrix([[-3.18872414e-03,  3.00457501e-10, -4.31600406e-02],\n",
       "        [ 3.17651176e-02, -2.99306789e-09,  4.29947435e-01],\n",
       "        [ 4.46239687e-02, -4.20469301e-09,  6.03994643e-01]])"
      ]
     },
     "execution_count": 57,
     "metadata": {},
     "output_type": "execute_result"
    }
   ],
   "source": [
    "SMEFT19.scenarios.rot2lqU1(bf2)"
   ]
  },
  {
   "cell_type": "code",
   "execution_count": null,
   "metadata": {},
   "outputs": [],
   "source": []
  }
 ],
 "metadata": {
  "kernelspec": {
   "display_name": "Python 3",
   "language": "python",
   "name": "python3"
  },
  "language_info": {
   "codemirror_mode": {
    "name": "ipython",
    "version": 3
   },
   "file_extension": ".py",
   "mimetype": "text/x-python",
   "name": "python",
   "nbconvert_exporter": "python",
   "pygments_lexer": "ipython3",
   "version": "3.8.12"
  }
 },
 "nbformat": 4,
 "nbformat_minor": 4
}
