{
 "cells": [
  {
   "cell_type": "markdown",
   "metadata": {},
   "source": [
    "# 04: Scenario VII"
   ]
  },
  {
   "cell_type": "markdown",
   "metadata": {},
   "source": [
    "In this notebook we take a closer look at Scenario VII and the neighborhood of the best-fit point. The contents of this notebook are used in Section 6.3.1."
   ]
  },
  {
   "cell_type": "code",
   "execution_count": 1,
   "metadata": {},
   "outputs": [],
   "source": [
    "import SMEFT19\n",
    "from SMEFT19.scenarios import scVII\n",
    "import numpy as np\n",
    "from flavio.statistics.functions import delta_chi2"
   ]
  },
  {
   "cell_type": "code",
   "execution_count": 69,
   "metadata": {},
   "outputs": [],
   "source": [
    "dVII = SMEFT19.ellipse.load('../../ellipses/scVII.yaml')\n",
    "bfVII = dVII['bf']\n",
    "vVII = dVII['v']\n",
    "diagVII = dVII['d']\n",
    "LVII = dVII['L']"
   ]
  },
  {
   "cell_type": "markdown",
   "metadata": {},
   "source": [
    "### Hessian Matrix and rotation"
   ]
  },
  {
   "cell_type": "markdown",
   "metadata": {},
   "source": [
    "Hessian matrix"
   ]
  },
  {
   "cell_type": "code",
   "execution_count": 22,
   "metadata": {},
   "outputs": [
    {
     "data": {
      "text/plain": [
       "matrix([[ 3.07343695e+02,  5.67414678e+01, -1.67554446e-01],\n",
       "        [ 5.67414678e+01,  6.69617869e+02, -6.39211370e+00],\n",
       "        [-1.67554446e-01, -6.39211370e+00,  2.84657606e+01]])"
      ]
     },
     "execution_count": 22,
     "metadata": {},
     "output_type": "execute_result"
    }
   ],
   "source": [
    "H = vVII @ diagVII @ vVII.T\n",
    "H"
   ]
  },
  {
   "cell_type": "markdown",
   "metadata": {},
   "source": [
    "Semi-axes of the ellipse"
   ]
  },
  {
   "cell_type": "code",
   "execution_count": 24,
   "metadata": {
    "scrolled": false
   },
   "outputs": [
    {
     "data": {
      "text/plain": [
       "array([0.35238418, 0.10866589, 0.0721036 ])"
      ]
     },
     "execution_count": 24,
     "metadata": {},
     "output_type": "execute_result"
    }
   ],
   "source": [
    "a = np.sqrt(delta_chi2(1,3)/np.diag(diagVII))\n",
    "a"
   ]
  },
  {
   "cell_type": "markdown",
   "metadata": {},
   "source": [
    "Rotation matrix"
   ]
  },
  {
   "cell_type": "code",
   "execution_count": 25,
   "metadata": {},
   "outputs": [
    {
     "data": {
      "text/plain": [
       "matrix([[ 0.00145321,  0.98850595, -0.15117499],\n",
       "        [-0.01009681, -0.15115294, -0.98845882],\n",
       "        [-0.99994797,  0.00296282,  0.0097611 ]])"
      ]
     },
     "execution_count": 25,
     "metadata": {},
     "output_type": "execute_result"
    }
   ],
   "source": [
    "vVII"
   ]
  },
  {
   "cell_type": "markdown",
   "metadata": {},
   "source": [
    "Extrema of the ellipse"
   ]
  },
  {
   "cell_type": "code",
   "execution_count": 72,
   "metadata": {},
   "outputs": [
    {
     "name": "stdout",
     "output_type": "stream",
     "text": [
      "[-0.14921456  0.14609287 -0.62186569]\t3.352163783869152\n"
     ]
    }
   ],
   "source": [
    "p1p = bfVII + a[0]*np.array(vVII[:,0]).flatten()\n",
    "l1p = -2*(SMEFT19.likelihood_global(p1p, scVII) + LVII)\n",
    "print(f'{p1p}\\t{l1p}')"
   ]
  },
  {
   "cell_type": "code",
   "execution_count": 73,
   "metadata": {},
   "outputs": [
    {
     "name": "stdout",
     "output_type": "stream",
     "text": [
      "[-0.15023873  0.15320878  0.08286601]\t3.39035351767415\n"
     ]
    }
   ],
   "source": [
    "p1m = bfVII - a[0]*np.array(vVII[:,0]).flatten()\n",
    "l1m = -2*(SMEFT19.likelihood_global(p1m, scVII) + LVII)\n",
    "print(f'{p1m}\\t{l1m}')"
   ]
  },
  {
   "cell_type": "code",
   "execution_count": 76,
   "metadata": {},
   "outputs": [
    {
     "name": "stdout",
     "output_type": "stream",
     "text": [
      "[-0.04230977  0.13322566 -0.26917788]\t4.2877067971896565\n"
     ]
    }
   ],
   "source": [
    "p2p = bfVII + a[1]*np.array(vVII[:,1]).flatten()\n",
    "l2p = -2*(SMEFT19.likelihood_global(p2p, scVII) + LVII)\n",
    "print(f'{p2p}\\t{l2p}')"
   ]
  },
  {
   "cell_type": "code",
   "execution_count": 77,
   "metadata": {},
   "outputs": [
    {
     "name": "stdout",
     "output_type": "stream",
     "text": [
      "[-0.25714353  0.16607599 -0.2698218 ]\t4.43567222411415\n"
     ]
    }
   ],
   "source": [
    "p2m = bfVII - a[1]*np.array(vVII[:,1]).flatten()\n",
    "l2m = -2*(SMEFT19.likelihood_global(p2m, scVII) + LVII)\n",
    "print(f'{p2m}\\t{l2m}') "
   ]
  },
  {
   "cell_type": "code",
   "execution_count": 78,
   "metadata": {},
   "outputs": [
    {
     "name": "stdout",
     "output_type": "stream",
     "text": [
      "[-0.16062691  0.07837939 -0.26879603]\t3.70721785960432\n"
     ]
    }
   ],
   "source": [
    "p3p = bfVII + a[2]*np.array(vVII[:,2]).flatten()\n",
    "l3p = -2*(SMEFT19.likelihood_global(p3p, scVII) + LVII)\n",
    "print(f'{p3p}\\t{l3p}')"
   ]
  },
  {
   "cell_type": "code",
   "execution_count": 79,
   "metadata": {},
   "outputs": [
    {
     "name": "stdout",
     "output_type": "stream",
     "text": [
      "[-0.13882639  0.22092226 -0.27020365]\t3.9698051457436208\n"
     ]
    }
   ],
   "source": [
    "p3m = bfVII - a[2]*np.array(vVII[:,2]).flatten()\n",
    "l3m = -2*(SMEFT19.likelihood_global(p3m, scVII) + LVII)\n",
    "print(f'{p3m}\\t{l3m}') "
   ]
  },
  {
   "cell_type": "markdown",
   "metadata": {},
   "source": [
    "Extreme values of each coefficient"
   ]
  },
  {
   "cell_type": "code",
   "execution_count": 27,
   "metadata": {},
   "outputs": [
    {
     "data": {
      "text/plain": [
       "array([0.10712099, 0.07257269, 0.35198597])"
      ]
     },
     "execution_count": 27,
     "metadata": {},
     "output_type": "execute_result"
    }
   ],
   "source": [
    "a_coeff = np.sqrt(delta_chi2(1,3)/np.diag(H))\n",
    "a_coeff"
   ]
  },
  {
   "cell_type": "code",
   "execution_count": 80,
   "metadata": {},
   "outputs": [
    {
     "name": "stdout",
     "output_type": "stream",
     "text": [
      "[-0.04260565  0.14965083 -0.26949984]\t4.066948201144271\n"
     ]
    }
   ],
   "source": [
    "pep = bfVII + np.array([a_coeff[0],0,0])\n",
    "lep = -2*(SMEFT19.likelihood_global(pep, scVII) + LVII)\n",
    "print(f'{pep}\\t{lep}') "
   ]
  },
  {
   "cell_type": "code",
   "execution_count": 81,
   "metadata": {},
   "outputs": [
    {
     "name": "stdout",
     "output_type": "stream",
     "text": [
      "[-0.25684764  0.14965083 -0.26949984]\t4.172186500550637\n"
     ]
    }
   ],
   "source": [
    "pem = bfVII - np.array([a_coeff[0],0,0])\n",
    "lem = -2*(SMEFT19.likelihood_global(pem, scVII) + LVII)\n",
    "print(f'{pem}\\t{lem}') "
   ]
  },
  {
   "cell_type": "code",
   "execution_count": 82,
   "metadata": {},
   "outputs": [
    {
     "name": "stdout",
     "output_type": "stream",
     "text": [
      "[-0.14972665  0.22222352 -0.26949984]\t4.0763352184390484\n"
     ]
    }
   ],
   "source": [
    "pmup = bfVII + np.array([0,a_coeff[1],0])\n",
    "lmup = -2*(SMEFT19.likelihood_global(pmup, scVII) + LVII)\n",
    "print(f'{pmup}\\t{lmup}') "
   ]
  },
  {
   "cell_type": "code",
   "execution_count": 83,
   "metadata": {},
   "outputs": [
    {
     "name": "stdout",
     "output_type": "stream",
     "text": [
      "[-0.14972665  0.07707813 -0.26949984]\t3.784302538404141\n"
     ]
    }
   ],
   "source": [
    "pmum = bfVII - np.array([0,a_coeff[1],0])\n",
    "lmum = -2*(SMEFT19.likelihood_global(pmum, scVII) + LVII)\n",
    "print(f'{pmum}\\t{lmum}') "
   ]
  },
  {
   "cell_type": "code",
   "execution_count": 84,
   "metadata": {},
   "outputs": [
    {
     "name": "stdout",
     "output_type": "stream",
     "text": [
      "[-0.14972665  0.14965083  0.08248613]\t3.3907185950610277\n"
     ]
    }
   ],
   "source": [
    "ptaup = bfVII + np.array([0,0,a_coeff[2]])\n",
    "ltaup = -2*(SMEFT19.likelihood_global(ptaup, scVII) + LVII)\n",
    "print(f'{ptaup}\\t{ltaup}') "
   ]
  },
  {
   "cell_type": "code",
   "execution_count": 85,
   "metadata": {},
   "outputs": [
    {
     "name": "stdout",
     "output_type": "stream",
     "text": [
      "[-0.14972665  0.14965083 -0.6214858 ]\t3.348779063033696\n"
     ]
    }
   ],
   "source": [
    "ptaum = bfVII - np.array([0,0,a_coeff[2]])\n",
    "ltaum = -2*(SMEFT19.likelihood_global(ptaum, scVII) + LVII)\n",
    "print(f'{ptaum}\\t{ltaum}') "
   ]
  },
  {
   "cell_type": "markdown",
   "metadata": {},
   "source": [
    "SM direction"
   ]
  },
  {
   "cell_type": "code",
   "execution_count": 56,
   "metadata": {},
   "outputs": [
    {
     "data": {
      "text/plain": [
       "0.4011753357898123"
      ]
     },
     "execution_count": 56,
     "metadata": {},
     "output_type": "execute_result"
    }
   ],
   "source": [
    "a_SM = np.sqrt(delta_chi2(1,3)/(bfVII @ H @ bfVII))[0,0]\n",
    "a_SM"
   ]
  },
  {
   "cell_type": "code",
   "execution_count": 86,
   "metadata": {},
   "outputs": [
    {
     "name": "stdout",
     "output_type": "stream",
     "text": [
      "[-0.20979328  0.20968705 -0.37761653]\t4.693637892371026\n"
     ]
    }
   ],
   "source": [
    "pSMp = bfVII*(1+a_SM)\n",
    "lSMp = -2*(SMEFT19.likelihood_global(pSMp, scVII) + LVII)\n",
    "print(f'{pSMp}\\t{lSMp}') "
   ]
  },
  {
   "cell_type": "code",
   "execution_count": 87,
   "metadata": {},
   "outputs": [
    {
     "name": "stdout",
     "output_type": "stream",
     "text": [
      "[-0.08966001  0.08961461 -0.16138315]\t4.290914627715015\n"
     ]
    }
   ],
   "source": [
    "pSMm = bfVII*(1-a_SM)\n",
    "lSMm = -2*(SMEFT19.likelihood_global(pSMm, scVII) + LVII)\n",
    "print(f'{pSMm}\\t{lSMm}') "
   ]
  },
  {
   "cell_type": "markdown",
   "metadata": {},
   "source": [
    "## Observables"
   ]
  },
  {
   "cell_type": "code",
   "execution_count": 88,
   "metadata": {},
   "outputs": [],
   "source": [
    "from SMEFT19.plots import compare_plot"
   ]
  },
  {
   "cell_type": "code",
   "execution_count": 90,
   "metadata": {},
   "outputs": [
    {
     "data": {
      "image/png": "[encoded data removed]",
      "text/plain": [
       "<Figure size 432x288 with 1 Axes>"
      ]
     },
     "metadata": {
      "needs_background": "light"
     },
     "output_type": "display_data"
    }
   ],
   "source": [
    "compare_plot(scVII, '../../ellipses/scVII.yaml', '../../plots/pullsVII')"
   ]
  },
  {
   "cell_type": "code",
   "execution_count": 2,
   "metadata": {},
   "outputs": [],
   "source": [
    "SMEFT19.comparepulls.compare(scVII, '../../ellipses/scVII.yaml', '../../TeX/pullsVII' )"
   ]
  },
  {
   "cell_type": "markdown",
   "metadata": {},
   "source": [
    "[Link to the table](https://github.com/Jorge-Alda/SMEFT19/blob/master/TeX/standalone_pullsVII.pdf)"
   ]
  },
  {
   "cell_type": "markdown",
   "metadata": {},
   "source": [
    "### Largest pull differences"
   ]
  },
  {
   "cell_type": "code",
   "execution_count": 2,
   "metadata": {},
   "outputs": [
    {
     "name": "stdout",
     "output_type": "stream",
     "text": [
      "Operator 1+\n",
      "**********************\n",
      "\n",
      "5\t('<Rmue>(B+->Kll)', 1.1, 6.0)\t1.047047303958045\n",
      "18\tA(Z->ee)\t0.4715343930119273\n",
      "58\tm_W\t0.4101674193073143\n",
      "15\tAFB(Z->bb)\t0.34506594275712094\n",
      "272\tGammaZ\t0.2736148730604824\n",
      "\n",
      "\n",
      "\n",
      "\n",
      "Operator 1-\n",
      "**********************\n",
      "\n",
      "5\t('<Rmue>(B+->Kll)', 1.1, 6.0)\t1.0574043571326897\n",
      "18\tA(Z->ee)\t0.47067314854461845\n",
      "58\tm_W\t0.410169133754074\n",
      "15\tAFB(Z->bb)\t0.3445742790040408\n",
      "272\tGammaZ\t0.2740356795426639\n",
      "\n",
      "\n",
      "\n",
      "\n",
      "Operator 2+\n",
      "**********************\n",
      "\n",
      "202\tFt(26mAl)\t1.219473075171127\n",
      "339\tFt(34Cl)\t0.6749305550318184\n",
      "436\tFt(38mK)\t0.5709724308787687\n",
      "145\tFt(46V)\t0.5499316837263112\n",
      "5\t('<Rmue>(B+->Kll)', 1.1, 6.0)\t0.5447533635561222\n",
      "\n",
      "\n",
      "\n",
      "\n",
      "Operator 2-\n",
      "**********************\n",
      "\n",
      "202\tFt(26mAl)\t1.2172939145999349\n",
      "339\tFt(34Cl)\t0.6737244750586382\n",
      "436\tFt(38mK)\t0.5699521208498426\n",
      "145\tFt(46V)\t0.5489489728601077\n",
      "5\t('<Rmue>(B+->Kll)', 1.1, 6.0)\t0.520193293135291\n",
      "\n",
      "\n",
      "\n",
      "\n",
      "Operator 3+\n",
      "**********************\n",
      "\n",
      "189\tBR(tau->enunu)\t0.9974253920008658\n",
      "38\tBR(tau->mununu)\t0.9671433220556171\n",
      "354\tsigma_had\t0.6863489881909502\n",
      "3\tRtaul(B->D*lnu)\t0.42462033122915777\n",
      "72\tRtaul(B->Dlnu)\t0.15349094753397646\n",
      "\n",
      "\n",
      "\n",
      "\n",
      "Operator 3-\n",
      "**********************\n",
      "\n",
      "189\tBR(tau->enunu)\t0.9945541390912793\n",
      "38\tBR(tau->mununu)\t0.9643626858294673\n",
      "354\tsigma_had\t0.683668946427221\n",
      "3\tRtaul(B->D*lnu)\t0.4419002450199323\n",
      "72\tRtaul(B->Dlnu)\t0.1598326082282726\n",
      "\n",
      "\n",
      "\n",
      "\n",
      "Axis 1+\n",
      "**********************\n",
      "\n",
      "189\tBR(tau->enunu)\t0.9766885986266233\n",
      "38\tBR(tau->mununu)\t0.9692529999943418\n",
      "354\tsigma_had\t0.6948295138116227\n",
      "3\tRtaul(B->D*lnu)\t0.4388966037166004\n",
      "72\tRtaul(B->Dlnu)\t0.158745199486295\n",
      "\n",
      "\n",
      "\n",
      "\n",
      "Axis 1-\n",
      "**********************\n",
      "\n",
      "189\tBR(tau->enunu)\t0.9794825268134246\n",
      "38\tBR(tau->mununu)\t0.9720547332247578\n",
      "354\tsigma_had\t0.6975481312670726\n",
      "3\tRtaul(B->D*lnu)\t0.42191994412658923\n",
      "72\tRtaul(B->Dlnu)\t0.15252858831577004\n",
      "\n",
      "\n",
      "\n",
      "\n",
      "Axis 2+\n",
      "**********************\n",
      "\n",
      "5\t('<Rmue>(B+->Kll)', 1.1, 6.0)\t1.4028027678486763\n",
      "18\tA(Z->ee)\t0.3553353029014595\n",
      "58\tm_W\t0.29594825763779986\n",
      "299\tBR(pi+->enu)\t0.2754178068815202\n",
      "284\tRmue(B->D*lnu)\t0.2702503872873058\n",
      "\n",
      "\n",
      "\n",
      "\n",
      "Axis 2-\n",
      "**********************\n",
      "\n",
      "5\t('<Rmue>(B+->Kll)', 1.1, 6.0)\t1.4505282911519382\n",
      "18\tA(Z->ee)\t0.35476065690568914\n",
      "58\tm_W\t0.2959493121217155\n",
      "299\tBR(pi+->enu)\t0.2746525761359327\n",
      "284\tRmue(B->D*lnu)\t0.2596141650921076\n",
      "\n",
      "\n",
      "\n",
      "\n",
      "Axis 3+\n",
      "**********************\n",
      "\n",
      "202\tFt(26mAl)\t1.174051125608365\n",
      "339\tFt(34Cl)\t0.6497912860695126\n",
      "436\tFt(38mK)\t0.5497053102796049\n",
      "145\tFt(46V)\t0.5294482719070802\n",
      "408\tFt(50Mn)\t0.4726530083420578\n",
      "\n",
      "\n",
      "\n",
      "\n",
      "Axis 3-\n",
      "**********************\n",
      "\n",
      "202\tFt(26mAl)\t1.176114690170544\n",
      "339\tFt(34Cl)\t0.650933388182016\n",
      "436\tFt(38mK)\t0.5506714968222387\n",
      "145\tFt(46V)\t0.530378853776639\n",
      "408\tFt(50Mn)\t0.4734837643261531\n",
      "\n",
      "\n",
      "\n",
      "\n",
      "SM+\n",
      "**********************\n",
      "\n",
      "5\t('<Rmue>(B+->Kll)', 1.1, 6.0)\t1.4456709098201241\n",
      "202\tFt(26mAl)\t0.8337109639334289\n",
      "339\tFt(34Cl)\t0.4614263447716883\n",
      "436\tFt(38mK)\t0.39035382200673313\n",
      "145\tFt(46V)\t0.3759690012611898\n",
      "\n",
      "\n",
      "\n",
      "\n",
      "SM-\n",
      "**********************\n",
      "\n",
      "5\t('<Rmue>(B+->Kll)', 1.1, 6.0)\t1.3509121356276814\n",
      "202\tFt(26mAl)\t0.8324603414866149\n",
      "339\tFt(34Cl)\t0.4607341742602148\n",
      "436\tFt(38mK)\t0.38976826505339124\n",
      "145\tFt(46V)\t0.37540502250521496\n",
      "\n"
     ]
    }
   ],
   "source": [
    "SMEFT19.comparepulls.notablepulls(scVII, '../../ellipses/scVII.yaml')"
   ]
  },
  {
   "cell_type": "code",
   "execution_count": 3,
   "metadata": {},
   "outputs": [],
   "source": [
    "from SMEFT19.plots import evolution_plot"
   ]
  },
  {
   "cell_type": "code",
   "execution_count": 5,
   "metadata": {},
   "outputs": [
    {
     "data": {
      "image/png": "[encoded data removed]",
      "text/plain": [
       "<Figure size 432x288 with 1 Axes>"
      ]
     },
     "metadata": {
      "needs_background": "light"
     },
     "output_type": "display_data"
    }
   ],
   "source": [
    "evolution_plot([3, 5, 18, 189, 202, 299], scVII, '../../ellipses/scVII.yaml', 'ax1', '../../plots/evo_ax1',\n",
    "               [r'$R_{D^*}^\\ell$', r'$R_{K^+}^{[1.1,6]}$', '$A_e$', r'$\\mathrm{BR}(\\tau\\to e\\nu\\nu)$',\n",
    "                r'$\\mathcal{F}t(^{26m}\\mathrm{Al})$', r'$\\mathrm{BR}(\\pi\\to e \\nu)$'])"
   ]
  },
  {
   "cell_type": "code",
   "execution_count": 6,
   "metadata": {},
   "outputs": [
    {
     "data": {
      "image/png": "[encoded data removed]",
      "text/plain": [
       "<Figure size 432x288 with 1 Axes>"
      ]
     },
     "metadata": {
      "needs_background": "light"
     },
     "output_type": "display_data"
    }
   ],
   "source": [
    "evolution_plot([3, 5, 18, 189, 202, 299], scVII, '../../ellipses/scVII.yaml', 'ax2', '../../plots/evo_ax2',\n",
    "               [r'$R_{D^*}^\\ell$', r'$R_{K^+}^{[1.1,6]}$', '$A_e$', r'$\\mathrm{BR}(\\tau\\to e\\nu\\nu)$',\n",
    "                r'$\\mathcal{F}t(^{26m}\\mathrm{Al})$', r'$\\mathrm{BR}(\\pi\\to e \\nu)$'])"
   ]
  },
  {
   "cell_type": "code",
   "execution_count": 7,
   "metadata": {},
   "outputs": [
    {
     "data": {
      "image/png": "[encoded data removed]",
      "text/plain": [
       "<Figure size 432x288 with 1 Axes>"
      ]
     },
     "metadata": {
      "needs_background": "light"
     },
     "output_type": "display_data"
    }
   ],
   "source": [
    "evolution_plot([3, 5, 18, 189, 202, 299], scVII, '../../ellipses/scVII.yaml', 'ax3', '../../plots/evo_ax3',\n",
    "               [r'$R_{D^*}^\\ell$', r'$R_{K^+}^{[1.1,6]}$', '$A_e$', r'$\\mathrm{BR}(\\tau\\to e\\nu\\nu)$',\n",
    "                r'$\\mathcal{F}t(^{26m}\\mathrm{Al})$', r'$\\mathrm{BR}(\\pi\\to e \\nu)$'])"
   ]
  },
  {
   "cell_type": "code",
   "execution_count": 8,
   "metadata": {},
   "outputs": [
    {
     "data": {
      "image/png": "[encoded data removed]",
      "text/plain": [
       "<Figure size 432x288 with 1 Axes>"
      ]
     },
     "metadata": {
      "needs_background": "light"
     },
     "output_type": "display_data"
    }
   ],
   "source": [
    "evolution_plot([3, 5, 18, 189, 202, 299], scVII, '../../ellipses/scVII.yaml', 'sm', '../../plots/evo_sm',\n",
    "               [r'$R_{D^*}^\\ell$', r'$R_{K^+}^{[1.1,6]}$', '$A_e$', r'$\\mathrm{BR}(\\tau\\to e\\nu\\nu)$',\n",
    "                r'$\\mathcal{F}t(^{26m}\\mathrm{Al})$', r'$\\mathrm{BR}(\\pi\\to e \\nu)$'])"
   ]
  }
 ],
 "metadata": {
  "kernelspec": {
   "display_name": "Python 3",
   "language": "python",
   "name": "python3"
  },
  "language_info": {
   "codemirror_mode": {
    "name": "ipython",
    "version": 3
   },
   "file_extension": ".py",
   "mimetype": "text/x-python",
   "name": "python",
   "nbconvert_exporter": "python",
   "pygments_lexer": "ipython3",
   "version": "3.8.10"
  }
 },
 "nbformat": 4,
 "nbformat_minor": 4
}
