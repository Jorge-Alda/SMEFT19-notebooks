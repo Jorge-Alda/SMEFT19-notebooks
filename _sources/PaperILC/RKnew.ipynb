{
 "cells": [
  {
   "cell_type": "markdown",
   "metadata": {},
   "source": [
    "# Confidence intervals for observables"
   ]
  },
  {
   "cell_type": "code",
   "execution_count": 1,
   "metadata": {},
   "outputs": [],
   "source": [
    "import SMEFT19\n",
    "import matplotlib.pyplot as plt\n",
    "import numpy as np\n",
    "import yaml"
   ]
  },
  {
   "cell_type": "code",
   "execution_count": 2,
   "metadata": {},
   "outputs": [],
   "source": [
    "scs = [SMEFT19.scenarios.scIV, SMEFT19.scenarios.scVII, SMEFT19.scenarios.scIX, SMEFT19.scenarios.scX, SMEFT19.scenarios.scXI]\n",
    "dictsc = [SMEFT19.ellipse.load(f'../data/ellipses/{s.__name__}_ILC.yaml') for s in scs]"
   ]
  },
  {
   "cell_type": "code",
   "execution_count": 3,
   "metadata": {},
   "outputs": [],
   "source": [
    "def recursiveDict(d):\n",
    "    for k, v in d.items():\n",
    "        if isinstance(v, dict):\n",
    "            d[k] = recursiveDict(v)\n",
    "    return dict(d)"
   ]
  },
  {
   "cell_type": "markdown",
   "metadata": {},
   "source": [
    "## 1D fits"
   ]
  },
  {
   "cell_type": "code",
   "execution_count": 4,
   "metadata": {},
   "outputs": [],
   "source": [
    "supIX = []\n",
    "infIX = []\n",
    "for o in SMEFT19.obsuncert.obslist:\n",
    "    infIX.append(SMEFT19.SMEFTglob.prediction(dictsc[2]['bf'] - (1/dictsc[2]['d'])**0.5, o, scs[2]))\n",
    "    supIX.append(SMEFT19.SMEFTglob.prediction(dictsc[2]['bf'] + (1/dictsc[2]['d'])**0.5, o, scs[2]))"
   ]
  },
  {
   "cell_type": "code",
   "execution_count": 5,
   "metadata": {},
   "outputs": [],
   "source": [
    "with open('../data/observables/obsIX_ILC.yaml', 'rt') as f:\n",
    "    yamlIX = yaml.safe_load(f)"
   ]
  },
  {
   "cell_type": "code",
   "execution_count": 6,
   "metadata": {},
   "outputs": [],
   "source": [
    "for i, o in enumerate(SMEFT19.obsuncert.obslist):\n",
    "    uStat = abs(supIX[i]-infIX[i])\n",
    "    yamlIX[str(o)]['NP']['uncert'] = float((yamlIX[str(o)]['NP']['uncert']**2-yamlIX[str(o)]['NP']['uStat']**2+uStat**2)**0.5)\n",
    "    yamlIX[str(o)]['NP']['uStat'] = float(uStat)"
   ]
  },
  {
   "cell_type": "code",
   "execution_count": 7,
   "metadata": {},
   "outputs": [],
   "source": [
    "with open('../data/observables/obsIX_ILC.yaml', 'wt') as f:\n",
    "    yaml.dump(recursiveDict(yamlIX), f)"
   ]
  },
  {
   "cell_type": "code",
   "execution_count": 8,
   "metadata": {},
   "outputs": [],
   "source": [
    "supX = []\n",
    "infX = []\n",
    "for o in SMEFT19.obsuncert.obslist:\n",
    "    infX.append(SMEFT19.SMEFTglob.prediction(dictsc[3]['bf'] - (1/dictsc[3]['d'])**0.5, o, scs[3]))\n",
    "    supX.append(SMEFT19.SMEFTglob.prediction(dictsc[3]['bf'] + (1/dictsc[3]['d'])**0.5, o, scs[3]))"
   ]
  },
  {
   "cell_type": "code",
   "execution_count": 9,
   "metadata": {},
   "outputs": [],
   "source": [
    "with open('../data/observables/obsX_ILC.yaml', 'rt') as f:\n",
    "    yamlX = yaml.safe_load(f)"
   ]
  },
  {
   "cell_type": "code",
   "execution_count": 10,
   "metadata": {},
   "outputs": [],
   "source": [
    "for i, o in enumerate(SMEFT19.obsuncert.obslist):\n",
    "    uStat = abs(supX[i]-infX[i])\n",
    "    yamlX[str(o)]['NP']['uncert'] = float((yamlX[str(o)]['NP']['uncert']**2-yamlX[str(o)]['NP']['uStat']**2+uStat**2)**0.5)\n",
    "    yamlX[str(o)]['NP']['uStat'] = float(uStat)"
   ]
  },
  {
   "cell_type": "code",
   "execution_count": 11,
   "metadata": {},
   "outputs": [],
   "source": [
    "with open('../data/observables/obsX_ILC.yaml', 'wt') as f:\n",
    "    yaml.dump(recursiveDict(yamlX), f)"
   ]
  },
  {
   "cell_type": "markdown",
   "metadata": {},
   "source": [
    "## 2D fits"
   ]
  },
  {
   "cell_type": "code",
   "execution_count": 12,
   "metadata": {},
   "outputs": [],
   "source": [
    "x = []\n",
    "y = []\n",
    "for theta in np.linspace(0, 2*np.pi, 100):\n",
    "    p = SMEFT19.ellipse.parametrize((np.cos(theta), np.sin(theta)), dictsc[0]['bf'], dictsc[0]['v'], dictsc[0]['d'])\n",
    "    x.append(p[0])\n",
    "    y.append(p[1])"
   ]
  },
  {
   "cell_type": "code",
   "execution_count": 13,
   "metadata": {},
   "outputs": [
    {
     "data": {
      "text/html": [
       "[<matplotlib.lines.Line2D object at 0x7f8bb8c1ef10>]"
      ],
      "text/plain": [
       "[<matplotlib.lines.Line2D at 0x7f8bb8c1ef10>]"
      ]
     },
     "execution_count": 13,
     "metadata": {},
     "output_type": "execute_result"
    },
    {
     "data": {
      "image/png": "[encoded data removed]",
      "text/plain": [
       "<Figure size 432x288 with 1 Axes>"
      ]
     },
     "metadata": {
      "needs_background": "light"
     },
     "output_type": "display_data"
    }
   ],
   "source": [
    "plt.plot(x, y)"
   ]
  },
  {
   "cell_type": "code",
   "execution_count": 14,
   "metadata": {},
   "outputs": [],
   "source": [
    "minIV =[float('inf')]*len(SMEFT19.obsuncert.obslist)\n",
    "maxIV =[-float('inf')]*len(SMEFT19.obsuncert.obslist)\n",
    "for xp, yp in zip(x, y):\n",
    "    for i, o in enumerate(SMEFT19.obsuncert.obslist):\n",
    "        p = SMEFT19.SMEFTglob.prediction((xp, yp), o, scs[0])\n",
    "        minIV[i] = min(minIV[i], p)\n",
    "        maxIV[i] = max(maxIV[i], p)"
   ]
  },
  {
   "cell_type": "code",
   "execution_count": 15,
   "metadata": {},
   "outputs": [],
   "source": [
    "x = []\n",
    "y = []\n",
    "for theta in np.linspace(0, 2*np.pi, 100):\n",
    "    p = SMEFT19.ellipse.parametrize((np.cos(theta), np.sin(theta)), dictsc[-1]['bf'], dictsc[-1]['v'], dictsc[-1]['d'])\n",
    "    x.append(p[0])\n",
    "    y.append(p[1])"
   ]
  },
  {
   "cell_type": "code",
   "execution_count": 16,
   "metadata": {},
   "outputs": [],
   "source": [
    "minXI =[float('inf')]*len(SMEFT19.obsuncert.obslist)\n",
    "maxXI =[-float('inf')]*len(SMEFT19.obsuncert.obslist)\n",
    "for xp, yp in zip(x, y):\n",
    "    for i, o in enumerate(SMEFT19.obsuncert.obslist):\n",
    "        p = SMEFT19.SMEFTglob.prediction((xp, yp), o, scs[-1])\n",
    "        minXI[i] = min(minXI[i], p)\n",
    "        maxXI[i] = max(maxXI[i], p)"
   ]
  },
  {
   "cell_type": "code",
   "execution_count": 17,
   "metadata": {},
   "outputs": [],
   "source": [
    "with open('../data/observables/obsIV_ILC.yaml', 'rt') as f:\n",
    "    yamlIV = yaml.safe_load(f)\n",
    "for i, o in enumerate(SMEFT19.obsuncert.obslist):\n",
    "    uStat = abs(maxIV[i]-minIV[i])\n",
    "    yamlIV[str(o)]['NP']['uncert'] = float((yamlIV[str(o)]['NP']['uncert']**2-yamlIV[str(o)]['NP']['uStat']**2+uStat**2)**0.5)\n",
    "    yamlIV[str(o)]['NP']['uStat'] = float(uStat)\n",
    "with open('../data/observables/obsIV_ILC.yaml', 'wt') as f:\n",
    "    yaml.dump(recursiveDict(yamlIV), f)"
   ]
  },
  {
   "cell_type": "code",
   "execution_count": 18,
   "metadata": {},
   "outputs": [],
   "source": [
    "with open('../data/observables/obsXI_ILC.yaml', 'rt') as f:\n",
    "    yamlXI = yaml.safe_load(f)\n",
    "for i, o in enumerate(SMEFT19.obsuncert.obslist):\n",
    "    uStat = abs(maxXI[i]-minXI[i])\n",
    "    yamlXI[str(o)]['NP']['uncert'] = float((yamlXI[str(o)]['NP']['uncert']**2-yamlXI[str(o)]['NP']['uStat']**2+uStat**2)**0.5)\n",
    "    yamlXI[str(o)]['NP']['uStat'] = float(uStat)\n",
    "with open('../data/observables/obsXI_ILC.yaml', 'wt') as f:\n",
    "    yaml.dump(recursiveDict(yamlXI), f)"
   ]
  },
  {
   "cell_type": "code",
   "execution_count": 19,
   "metadata": {},
   "outputs": [],
   "source": [
    "x = []\n",
    "y = []\n",
    "z = []\n",
    "for theta in np.linspace(0, np.pi, 20):\n",
    "    for phi in np.linspace(0, 2*np.pi, 20):\n",
    "        p = SMEFT19.ellipse.parametrize((np.sin(theta) * np.cos(phi), np.sin(theta) * np.sin(phi), np.cos(theta)), dictsc[1]['bf'], dictsc[1]['v'], dictsc[1]['d'])\n",
    "        x.append(p[0])\n",
    "        y.append(p[1])\n",
    "        z.append(p[2])"
   ]
  },
  {
   "cell_type": "code",
   "execution_count": 20,
   "metadata": {},
   "outputs": [],
   "source": [
    "minVII =[float('inf')]*len(SMEFT19.obsuncert.obslist)\n",
    "maxVII =[-float('inf')]*len(SMEFT19.obsuncert.obslist)\n",
    "for xp, yp, zp in zip(x, y, z):\n",
    "    for i, o in enumerate(SMEFT19.obsuncert.obslist):\n",
    "        p = SMEFT19.SMEFTglob.prediction((xp, yp, zp), o, scs[1])\n",
    "        minVII[i] = min(minVII[i], p)\n",
    "        maxVII[i] = max(maxVII[i], p)"
   ]
  },
  {
   "cell_type": "code",
   "execution_count": 21,
   "metadata": {},
   "outputs": [],
   "source": [
    "with open('../data/observables/obsVII_ILC.yaml', 'rt') as f:\n",
    "    yamlVII = yaml.safe_load(f)\n",
    "for i, o in enumerate(SMEFT19.obsuncert.obslist):\n",
    "    uStat = abs(maxVII[i]-minVII[i])\n",
    "    yamlVII[str(o)]['NP']['uncert'] = float((yamlVII[str(o)]['NP']['uncert']**2-yamlVII[str(o)]['NP']['uStat']**2+uStat**2)**0.5)\n",
    "    yamlVII[str(o)]['NP']['uStat'] = float(uStat)\n",
    "with open('../data/observables/obsVII_ILC.yaml', 'wt') as f:\n",
    "    yaml.dump(recursiveDict(yamlVII), f)"
   ]
  },
  {
   "cell_type": "code",
   "execution_count": 23,
   "metadata": {},
   "outputs": [],
   "source": [
    "from SMEFT19.plots import error_plot"
   ]
  },
  {
   "cell_type": "code",
   "execution_count": 24,
   "metadata": {},
   "outputs": [],
   "source": [
    "scs = ['IV', 'VII', 'IX', 'X', 'XI']"
   ]
  },
  {
   "cell_type": "code",
   "execution_count": 25,
   "metadata": {},
   "outputs": [
    {
     "data": {
      "image/png": "[encoded data removed]",
      "text/plain": [
       "<Figure size 576x360 with 1 Axes>"
      ]
     },
     "metadata": {
      "needs_background": "light"
     },
     "output_type": "display_data"
    }
   ],
   "source": [
    "error_plot('../data/plots/RKplot_ILC', 'RK', [f'../data/observables/obs{s}.yaml' for s in scs],\n",
    "           [f'../data/observables/obs{s}_ILC.yaml' for s in scs], legend=1)"
   ]
  },
  {
   "cell_type": "code",
   "execution_count": 26,
   "metadata": {},
   "outputs": [
    {
     "data": {
      "image/png": "[encoded data removed]",
      "text/plain": [
       "<Figure size 410.4x360 with 1 Axes>"
      ]
     },
     "metadata": {
      "needs_background": "light"
     },
     "output_type": "display_data"
    }
   ],
   "source": [
    "error_plot('../data/plots/RDplot_ILC', 'RD', [f'../data/observables/obs{s}.yaml' for s in scs],\n",
    "           [f'../data/observables/obs{s}_ILC.yaml' for s in scs], legend=0)"
   ]
  },
  {
   "cell_type": "code",
   "execution_count": null,
   "metadata": {},
   "outputs": [],
   "source": []
  }
 ],
 "metadata": {
  "kernelspec": {
   "display_name": "Python 3",
   "language": "python",
   "name": "python3"
  },
  "language_info": {
   "codemirror_mode": {
    "name": "ipython",
    "version": 3
   },
   "file_extension": ".py",
   "mimetype": "text/x-python",
   "name": "python",
   "nbconvert_exporter": "python",
   "pygments_lexer": "ipython3",
   "version": "3.8.10"
  }
 },
 "nbformat": 4,
 "nbformat_minor": 4
}
