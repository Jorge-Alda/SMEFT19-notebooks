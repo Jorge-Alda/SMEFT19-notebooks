{
 "cells": [
  {
   "cell_type": "markdown",
   "metadata": {},
   "source": [
    "# 01: Prospects"
   ]
  },
  {
   "cell_type": "markdown",
   "metadata": {},
   "source": [
    "In this notebook we generate the ILC projections for the EW observables in each Scenario."
   ]
  },
  {
   "cell_type": "code",
   "execution_count": 1,
   "metadata": {},
   "outputs": [],
   "source": [
    "observables = ['m_W', 'A(Z->ee)', 'A(Z->mumu)', 'A(Z->tautau)', 'A(Z->cc)', 'A(Z->bb)',\n",
    "               'R_e', 'R_mu', 'R_tau', 'R_c', 'R_b']"
   ]
  },
  {
   "cell_type": "markdown",
   "metadata": {},
   "source": [
    "Uncertainties after ILC (taken from [1910.11775](https://arxiv.org/abs/1910.11775))"
   ]
  },
  {
   "cell_type": "code",
   "execution_count": 2,
   "metadata": {},
   "outputs": [],
   "source": [
    "unc = {}\n",
    "unc['m_W'] = 0.0024\n",
    "unc['A(Z->ee)'] = 0.00015\n",
    "unc['A(Z->mumu)'] = 0.00075\n",
    "unc['A(Z->tautau)'] = 0.0008\n",
    "unc['A(Z->cc)'] = 0.0014\n",
    "unc['A(Z->bb)'] = 0.0006\n",
    "unc['R_e'] = 0.02\n",
    "unc['R_mu'] = 0.023\n",
    "unc['R_tau'] = 0.025\n",
    "unc['R_c'] = 0.0008\n",
    "unc['R_b'] = 0.00024"
   ]
  },
  {
   "cell_type": "code",
   "execution_count": 7,
   "metadata": {},
   "outputs": [],
   "source": [
    "import SMEFT19\n",
    "from SMEFT19.scenarios import scI, scII, scIII, scIV, scV, scVI, scVII, scVIII, scIX, scX, scXI\n",
    "scenarios = [scI, scII, scIII, scIV, scV, scVI, scVII, scVIII, scIX, scX, scXI]\n",
    "import yaml"
   ]
  },
  {
   "cell_type": "code",
   "execution_count": 20,
   "metadata": {},
   "outputs": [],
   "source": [
    "for sc in scenarios:    \n",
    "    dictSc = {'ILC250':{'experiment':f'ILC, 250GeV // {sc.__name__}'}}\n",
    "    d = SMEFT19.ellipse.load(f'../../ellipses/{sc.__name__}.yaml')\n",
    "    values = {}\n",
    "    for o in observables:\n",
    "        pred = SMEFT19.SMEFTglob.prediction(d['bf'], o, sc)\n",
    "        values[o] = f'{pred} ± {unc[o]}'\n",
    "    dictSc['ILC250']['values'] = values\n",
    "    with open(f'../../InputsILC/Input_{sc.__name__}.yaml', 'wt', encoding='utf-8') as fout:\n",
    "        yaml.safe_dump(dictSc, fout, allow_unicode=True)"
   ]
  }
 ],
 "metadata": {
  "kernelspec": {
   "display_name": "Python 3",
   "language": "python",
   "name": "python3"
  },
  "language_info": {
   "codemirror_mode": {
    "name": "ipython",
    "version": 3
   },
   "file_extension": ".py",
   "mimetype": "text/x-python",
   "name": "python",
   "nbconvert_exporter": "python",
   "pygments_lexer": "ipython3",
   "version": "3.8.10"
  }
 },
 "nbformat": 4,
 "nbformat_minor": 4
}
