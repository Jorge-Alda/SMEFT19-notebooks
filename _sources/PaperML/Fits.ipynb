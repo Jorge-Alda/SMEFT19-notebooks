{
 "cells": [
  {
   "cell_type": "code",
   "execution_count": 1,
   "metadata": {},
   "outputs": [],
   "source": [
    "import SMEFT19"
   ]
  },
  {
   "cell_type": "code",
   "execution_count": 4,
   "metadata": {},
   "outputs": [],
   "source": [
    "import numpy as np"
   ]
  },
  {
   "cell_type": "code",
   "execution_count": 3,
   "metadata": {},
   "outputs": [
    {
     "data": {
      "text/plain": [
       "'2.3.1'"
      ]
     },
     "execution_count": 3,
     "metadata": {},
     "output_type": "execute_result"
    }
   ],
   "source": [
    "import flavio\n",
    "flavio.__version__ #we're using the old version, flavio 1.5"
   ]
  },
  {
   "cell_type": "markdown",
   "metadata": {},
   "source": [
    "### Scenario I\n",
    "Fit only to `C`, `beta_l` and `beta_q`"
   ]
  },
  {
   "cell_type": "code",
   "execution_count": 4,
   "metadata": {},
   "outputs": [],
   "source": [
    "def fit(x):\n",
    "    return -SMEFT19.likelihood_global(x, SMEFT19.scenarios.rotBI)"
   ]
  },
  {
   "cell_type": "code",
   "execution_count": 5,
   "metadata": {},
   "outputs": [
    {
     "name": "stdout",
     "output_type": "stream",
     "text": [
      "Minimizing...\n",
      "Pull: 5.732129288814944 sigma\n"
     ]
    }
   ],
   "source": [
    "bf, v, d, L = SMEFT19.ellipse.minimum(fit, [-0.117, 0, 0.751])"
   ]
  },
  {
   "cell_type": "code",
   "execution_count": 6,
   "metadata": {},
   "outputs": [
    {
     "data": {
      "text/plain": [
       "array([-1.25709823e-01, -5.36322759e-14,  1.05354660e+00])"
      ]
     },
     "execution_count": 6,
     "metadata": {},
     "output_type": "execute_result"
    }
   ],
   "source": [
    "bf"
   ]
  },
  {
   "cell_type": "code",
   "execution_count": 7,
   "metadata": {},
   "outputs": [
    {
     "data": {
      "text/plain": [
       "40.14691638642315"
      ]
     },
     "execution_count": 7,
     "metadata": {},
     "output_type": "execute_result"
    }
   ],
   "source": [
    "-2*L"
   ]
  },
  {
   "cell_type": "code",
   "execution_count": 8,
   "metadata": {},
   "outputs": [],
   "source": [
    "SMEFT19.ellipse.save(bf, v, d, L, 'ellipse_scI.yaml', name='Includes 2021 Moriond data', fit='rotBI')"
   ]
  },
  {
   "cell_type": "code",
   "execution_count": 9,
   "metadata": {},
   "outputs": [
    {
     "data": {
      "text/plain": [
       "3.5267403802617303"
      ]
     },
     "execution_count": 9,
     "metadata": {},
     "output_type": "execute_result"
    }
   ],
   "source": [
    "dchi = flavio.statistics.functions.delta_chi2(1,3)\n",
    "dchi"
   ]
  },
  {
   "cell_type": "code",
   "execution_count": 10,
   "metadata": {},
   "outputs": [],
   "source": [
    "d_ell = SMEFT19.ellipse.load('ellipse_scI.yaml')\n",
    "v = d_ell['v']\n",
    "d = d_ell['d']\n",
    "H = v @ d @ v.T\n",
    "bf = d_ell['bf']\n",
    "L = d_ell['L']"
   ]
  },
  {
   "cell_type": "code",
   "execution_count": 13,
   "metadata": {},
   "outputs": [
    {
     "data": {
      "text/plain": [
       "3.735004126193097"
      ]
     },
     "execution_count": 13,
     "metadata": {},
     "output_type": "execute_result"
    }
   ],
   "source": [
    "fit(np.array(bf) - np.array([0.05,0,0]))-L #Error for C = 0.05"
   ]
  },
  {
   "cell_type": "code",
   "execution_count": 16,
   "metadata": {},
   "outputs": [
    {
     "data": {
      "text/plain": [
       "3.6428097330123137"
      ]
     },
     "execution_count": 16,
     "metadata": {},
     "output_type": "execute_result"
    }
   ],
   "source": [
    "fit(np.array(bf) - np.array([0,0.019,0]))-L #Error for bl = 0.019"
   ]
  },
  {
   "cell_type": "code",
   "execution_count": 17,
   "metadata": {},
   "outputs": [
    {
     "data": {
      "text/plain": [
       "3.4637593513608493"
      ]
     },
     "execution_count": 17,
     "metadata": {},
     "output_type": "execute_result"
    }
   ],
   "source": [
    "fit(np.array(bf) + np.array([0,0,1.7]))-L #Error for bq = +1.7 (asym)"
   ]
  },
  {
   "cell_type": "code",
   "execution_count": 19,
   "metadata": {},
   "outputs": [
    {
     "data": {
      "text/plain": [
       "3.481865400721574"
      ]
     },
     "execution_count": 19,
     "metadata": {},
     "output_type": "execute_result"
    }
   ],
   "source": [
    "fit(np.array(bf) - np.array([0,0,0.73]))-L #Error for bq = -0.72 (asym)"
   ]
  },
  {
   "cell_type": "markdown",
   "metadata": {},
   "source": [
    "### Scenario II\n",
    "Fit to all parameters"
   ]
  },
  {
   "cell_type": "code",
   "execution_count": 9,
   "metadata": {},
   "outputs": [],
   "source": [
    "def fit(x):\n",
    "    return -SMEFT19.likelihood_global(x, SMEFT19.scenarios.rotBII)"
   ]
  },
  {
   "cell_type": "code",
   "execution_count": 10,
   "metadata": {},
   "outputs": [
    {
     "name": "stdout",
     "output_type": "stream",
     "text": [
      "Minimizing...\n",
      "Pull: 7.071672324032612 sigma\n"
     ]
    }
   ],
   "source": [
    "bf2, v, d, L = SMEFT19.ellipse.minimum(fit, [-0.12, 0.07, 0, -0.076, 0.803])"
   ]
  },
  {
   "cell_type": "code",
   "execution_count": 11,
   "metadata": {},
   "outputs": [
    {
     "data": {
      "text/plain": [
       "array([-1.25752918e-01,  7.55406063e-02,  4.05430015e-05, -5.57208373e-02,\n",
       "        7.49043756e-01])"
      ]
     },
     "execution_count": 11,
     "metadata": {},
     "output_type": "execute_result"
    }
   ],
   "source": [
    "bf2"
   ]
  },
  {
   "cell_type": "code",
   "execution_count": 12,
   "metadata": {},
   "outputs": [
    {
     "data": {
      "text/plain": [
       "64.34714570679681"
      ]
     },
     "execution_count": 12,
     "metadata": {},
     "output_type": "execute_result"
    }
   ],
   "source": [
    "-2*L"
   ]
  },
  {
   "cell_type": "code",
   "execution_count": 13,
   "metadata": {},
   "outputs": [],
   "source": [
    "SMEFT19.ellipse.save(bf2, v, d, L, 'ellipse_scII_a.yaml', name='Includes 2021 Moriond data', fit='rotBII')"
   ]
  },
  {
   "cell_type": "code",
   "execution_count": 25,
   "metadata": {},
   "outputs": [
    {
     "data": {
      "text/plain": [
       "5.887595445915204"
      ]
     },
     "execution_count": 25,
     "metadata": {},
     "output_type": "execute_result"
    }
   ],
   "source": [
    "dchi = flavio.statistics.functions.delta_chi2(1,5)\n",
    "dchi"
   ]
  },
  {
   "cell_type": "code",
   "execution_count": 26,
   "metadata": {},
   "outputs": [],
   "source": [
    "d_ell = SMEFT19.ellipse.load('ellipse_scII_a.yaml')\n",
    "v = d_ell['v']\n",
    "d = d_ell['d']\n",
    "H = v @ d @ v.T\n",
    "bf = d_ell['bf']\n",
    "L = d_ell['L']"
   ]
  },
  {
   "cell_type": "code",
   "execution_count": 27,
   "metadata": {},
   "outputs": [
    {
     "data": {
      "text/plain": [
       "6.152515118775341"
      ]
     },
     "execution_count": 27,
     "metadata": {},
     "output_type": "execute_result"
    }
   ],
   "source": [
    "fit(np.array(bf2) - np.array([0.05,0,0,0,0]))-L #Error for C = 0.05"
   ]
  },
  {
   "cell_type": "code",
   "execution_count": 29,
   "metadata": {},
   "outputs": [
    {
     "data": {
      "text/plain": [
       "5.725242212942433"
      ]
     },
     "execution_count": 29,
     "metadata": {},
     "output_type": "execute_result"
    }
   ],
   "source": [
    "fit(np.array(bf2) + np.array([0,0.024,0,0,0]))-L #Error for al = 0.024"
   ]
  },
  {
   "cell_type": "code",
   "execution_count": 32,
   "metadata": {},
   "outputs": [
    {
     "data": {
      "text/plain": [
       "5.999778759098582"
      ]
     },
     "execution_count": 32,
     "metadata": {},
     "output_type": "execute_result"
    }
   ],
   "source": [
    "fit(np.array(bf2) + np.array([0,0,0.019,0,0]))-L #Error for bl = 0.019"
   ]
  },
  {
   "cell_type": "code",
   "execution_count": 34,
   "metadata": {},
   "outputs": [
    {
     "data": {
      "text/plain": [
       "3.8937656367619624"
      ]
     },
     "execution_count": 34,
     "metadata": {},
     "output_type": "execute_result"
    }
   ],
   "source": [
    "fit(np.array(bf2) + np.array([0,0,0,0.11,0]))-L #Error for aq = +0.11 (asym)"
   ]
  },
  {
   "cell_type": "code",
   "execution_count": 35,
   "metadata": {},
   "outputs": [
    {
     "data": {
      "text/plain": [
       "4.726994849180031"
      ]
     },
     "execution_count": 35,
     "metadata": {},
     "output_type": "execute_result"
    }
   ],
   "source": [
    "fit(np.array(bf2) - np.array([0,0,0,0.048,0]))-L #Error for aq = -0.048 (asym)"
   ]
  },
  {
   "cell_type": "code",
   "execution_count": 37,
   "metadata": {},
   "outputs": [
    {
     "data": {
      "text/plain": [
       "5.5334446926287555"
      ]
     },
     "execution_count": 37,
     "metadata": {},
     "output_type": "execute_result"
    }
   ],
   "source": [
    "fit(np.array(bf2) + np.array([0,0,0,0,1.3]))-L #Error for bq = +1.4 (asymm)"
   ]
  },
  {
   "cell_type": "code",
   "execution_count": 38,
   "metadata": {},
   "outputs": [
    {
     "data": {
      "text/plain": [
       "5.069909766040642"
      ]
     },
     "execution_count": 38,
     "metadata": {},
     "output_type": "execute_result"
    }
   ],
   "source": [
    "fit(np.array(bf2) - np.array([0,0,0,0,0.47]))-L #Error for bq = -0.47 (asym)"
   ]
  },
  {
   "cell_type": "code",
   "execution_count": 4,
   "metadata": {},
   "outputs": [
    {
     "data": {
      "text/plain": [
       "3.0410270049386643"
      ]
     },
     "execution_count": 4,
     "metadata": {},
     "output_type": "execute_result"
    }
   ],
   "source": [
    "flavio.statistics.functions.pull((64.34714570679681-40.14691638642315)/2,2)"
   ]
  },
  {
   "cell_type": "markdown",
   "metadata": {},
   "source": [
    "Let's find another **local minimum**"
   ]
  },
  {
   "cell_type": "code",
   "execution_count": 113,
   "metadata": {},
   "outputs": [
    {
     "name": "stdout",
     "output_type": "stream",
     "text": [
      "Minimizing...\n",
      "Pull: 7.086556580520946 sigma\n"
     ]
    }
   ],
   "source": [
    "bf2b, v, d, L = SMEFT19.ellipse.minimum(fit, [-0.124, 0.0736, 0, 0.0175, 0.667])"
   ]
  },
  {
   "cell_type": "code",
   "execution_count": 114,
   "metadata": {},
   "outputs": [
    {
     "data": {
      "text/plain": [
       "array([-1.29226796e-01,  7.24475177e-02, -8.01886984e-06, -1.53468401e-03,\n",
       "        7.48352343e-01])"
      ]
     },
     "execution_count": 114,
     "metadata": {},
     "output_type": "execute_result"
    }
   ],
   "source": [
    "bf2b"
   ]
  },
  {
   "cell_type": "code",
   "execution_count": 121,
   "metadata": {},
   "outputs": [],
   "source": [
    "d_ell = SMEFT19.ellipse.load('ellipse_scII_a.yaml')\n",
    "v1 = d_ell['v']\n",
    "d1 = d_ell['d']\n",
    "bf1 = d_ell['bf']\n",
    "L1 = d_ell['L']"
   ]
  },
  {
   "cell_type": "code",
   "execution_count": 122,
   "metadata": {},
   "outputs": [],
   "source": [
    "def fit2(x):\n",
    "    return -SMEFT19.likelihood_global([bf1[0], bf1[1], bf1[2], x[0], x[1]], SMEFT19.scenarios.rotBII)"
   ]
  },
  {
   "cell_type": "code",
   "execution_count": 123,
   "metadata": {},
   "outputs": [
    {
     "name": "stdout",
     "output_type": "stream",
     "text": [
      "Minimizing...\n",
      "Pull: 7.667474971186631 sigma\n"
     ]
    }
   ],
   "source": [
    "bf2, v2, d2, L2 = SMEFT19.ellipse.minimum(fit2, [0.0175, 0.667])"
   ]
  },
  {
   "cell_type": "code",
   "execution_count": 117,
   "metadata": {},
   "outputs": [
    {
     "data": {
      "text/plain": [
       "array([-1.29226796e-01,  7.24475177e-02, -8.01886984e-06, -1.53468401e-03,\n",
       "        7.48352343e-01])"
      ]
     },
     "execution_count": 117,
     "metadata": {},
     "output_type": "execute_result"
    }
   ],
   "source": [
    "\n",
    "bf"
   ]
  },
  {
   "cell_type": "code",
   "execution_count": 118,
   "metadata": {},
   "outputs": [
    {
     "data": {
      "text/plain": [
       "array([-0.00152962,  0.74830873])"
      ]
     },
     "execution_count": 118,
     "metadata": {},
     "output_type": "execute_result"
    }
   ],
   "source": [
    "bf2"
   ]
  },
  {
   "cell_type": "code",
   "execution_count": 2,
   "metadata": {},
   "outputs": [],
   "source": [
    "SMEFT19.comparepulls.compare(SMEFT19.scenarios.rotBII, '../../ellipses/rotBII.yaml', '../../TeX/pullsBII')"
   ]
  },
  {
   "cell_type": "code",
   "execution_count": 4,
   "metadata": {},
   "outputs": [],
   "source": [
    "gl = SMEFT19.SMEFTglob.gl.parameter_point({}, scale=1000)"
   ]
  },
  {
   "cell_type": "code",
   "execution_count": 5,
   "metadata": {},
   "outputs": [],
   "source": [
    "obstable = gl.obstable()"
   ]
  },
  {
   "cell_type": "code",
   "execution_count": 30,
   "metadata": {},
   "outputs": [
    {
     "ename": "TypeError",
     "evalue": "'Index' object is not callable",
     "output_type": "error",
     "traceback": [
      "\u001b[0;31m---------------------------------------------------------------------------\u001b[0m",
      "\u001b[0;31mTypeError\u001b[0m                                 Traceback (most recent call last)",
      "\u001b[0;32m<ipython-input-30-ff05edab7288>\u001b[0m in \u001b[0;36m<module>\u001b[0;34m\u001b[0m\n\u001b[0;32m----> 1\u001b[0;31m \u001b[0mobstable\u001b[0m\u001b[0;34m.\u001b[0m\u001b[0mindex\u001b[0m\u001b[0;34m(\u001b[0m\u001b[0;34m'a_mu'\u001b[0m\u001b[0;34m)\u001b[0m\u001b[0;34m\u001b[0m\u001b[0;34m\u001b[0m\u001b[0m\n\u001b[0m",
      "\u001b[0;31mTypeError\u001b[0m: 'Index' object is not callable"
     ]
    }
   ],
   "source": [
    "obstable.index('a_mu')"
   ]
  },
  {
   "cell_type": "code",
   "execution_count": 42,
   "metadata": {},
   "outputs": [
    {
     "name": "stdout",
     "output_type": "stream",
     "text": [
      "(<dBR/dq2>(Bs->phimumu), 2.5, 4.0)    3.99852\n",
      "Name: pull exp., dtype: object\n"
     ]
    }
   ],
   "source": [
    "o = tuple(obstable.index[1])\n",
    "print(obstable.loc[[o], 'pull exp.'])"
   ]
  },
  {
   "cell_type": "code",
   "execution_count": 3,
   "metadata": {},
   "outputs": [],
   "source": [
    "import SMEFT19.plots"
   ]
  },
  {
   "cell_type": "code",
   "execution_count": 4,
   "metadata": {},
   "outputs": [
    {
     "data": {
      "image/png": "[encoded data removed]",
      "text/plain": [
       "<Figure size 432x288 with 1 Axes>"
      ]
     },
     "metadata": {
      "needs_background": "light"
     },
     "output_type": "display_data"
    }
   ],
   "source": [
    "SMEFT19.plots.compare_plot(SMEFT19.scenarios.rotBII, 'ellipse_scII_a.yaml', 'pulls_scII', 1.5)"
   ]
  },
  {
   "cell_type": "code",
   "execution_count": 18,
   "metadata": {},
   "outputs": [],
   "source": [
    "import matplotlib.pyplot as plt\n",
    "import pandas as pd"
   ]
  },
  {
   "cell_type": "code",
   "execution_count": 19,
   "metadata": {},
   "outputs": [],
   "source": [
    "minpars = [-0.4, -0.15, -0.02, -0.2, 0]\n",
    "maxpars = [0, 0.15, 0.02, 0.1, 2]\n",
    "labels = [r'$C$', r'$\\alpha^\\ell$', r'$\\beta^\\ell$', r'$\\alpha^q$', r'$\\beta^q$' ]\n",
    "names = ['C', 'al', 'bl', 'aq', 'bq']"
   ]
  },
  {
   "cell_type": "code",
   "execution_count": 20,
   "metadata": {},
   "outputs": [],
   "source": [
    "d_ell = SMEFT19.ellipse.load('ellipse_scII_a.yaml')\n",
    "bf = d_ell['bf']"
   ]
  },
  {
   "cell_type": "code",
   "execution_count": 21,
   "metadata": {},
   "outputs": [],
   "source": [
    "def evoplot(i):\n",
    "    logL = []\n",
    "    for p in np.linspace(minpars[i], maxpars[i], 200):\n",
    "        newpoint = bf.copy()\n",
    "        newpoint[i] = p\n",
    "        logL.append(SMEFT19.likelihood_fits(newpoint, SMEFT19.scenarios.rotBII))\n",
    "    return logL"
   ]
  },
  {
   "cell_type": "code",
   "execution_count": 22,
   "metadata": {},
   "outputs": [],
   "source": [
    "from multiprocessing import Pool"
   ]
  },
  {
   "cell_type": "code",
   "execution_count": 25,
   "metadata": {},
   "outputs": [],
   "source": [
    "with Pool(3) as pool:\n",
    "    evos = pool.map(evoplot, range(5))"
   ]
  },
  {
   "cell_type": "code",
   "execution_count": 26,
   "metadata": {},
   "outputs": [],
   "source": [
    "df_evo = [0]*5"
   ]
  },
  {
   "cell_type": "code",
   "execution_count": 27,
   "metadata": {},
   "outputs": [],
   "source": [
    "for i in range(5):\n",
    "    df_evo[i] = pd.DataFrame(evos[i])"
   ]
  },
  {
   "cell_type": "code",
   "execution_count": 28,
   "metadata": {},
   "outputs": [
    {
     "data": {
      "text/html": [
       "<div>\n",
       "<style scoped>\n",
       "    .dataframe tbody tr th:only-of-type {\n",
       "        vertical-align: middle;\n",
       "    }\n",
       "\n",
       "    .dataframe tbody tr th {\n",
       "        vertical-align: top;\n",
       "    }\n",
       "\n",
       "    .dataframe thead th {\n",
       "        text-align: right;\n",
       "    }\n",
       "</style>\n",
       "<table border=\"1\" class=\"dataframe\">\n",
       "  <thead>\n",
       "    <tr style=\"text-align: right;\">\n",
       "      <th></th>\n",
       "      <th>fast_likelihood_quarks.yaml</th>\n",
       "      <th>fast_likelihood_leptons.yaml</th>\n",
       "      <th>likelihood_ewpt.yaml</th>\n",
       "      <th>likelihood_lept.yaml</th>\n",
       "      <th>likelihood_rd_rds.yaml</th>\n",
       "      <th>likelihood_lfu_fccc.yaml</th>\n",
       "      <th>likelihood_lfu_fcnc.yaml</th>\n",
       "      <th>likelihood_bcpv.yaml</th>\n",
       "      <th>likelihood_bqnunu.yaml</th>\n",
       "      <th>likelihood_lfv.yaml</th>\n",
       "      <th>likelihood_zlfv.yaml</th>\n",
       "      <th>custom_custom</th>\n",
       "      <th>global</th>\n",
       "    </tr>\n",
       "  </thead>\n",
       "  <tbody>\n",
       "    <tr>\n",
       "      <th>count</th>\n",
       "      <td>200.000000</td>\n",
       "      <td>200.000000</td>\n",
       "      <td>200.000000</td>\n",
       "      <td>2.000000e+02</td>\n",
       "      <td>200.000000</td>\n",
       "      <td>200.000000</td>\n",
       "      <td>200.000000</td>\n",
       "      <td>200.000000</td>\n",
       "      <td>200.000000</td>\n",
       "      <td>200.000000</td>\n",
       "      <td>200.000000</td>\n",
       "      <td>200.0</td>\n",
       "      <td>200.000000</td>\n",
       "    </tr>\n",
       "    <tr>\n",
       "      <th>mean</th>\n",
       "      <td>-7.077309</td>\n",
       "      <td>-1.239546</td>\n",
       "      <td>-0.222396</td>\n",
       "      <td>-1.842911e-06</td>\n",
       "      <td>-15.080597</td>\n",
       "      <td>-0.071516</td>\n",
       "      <td>-2.165850</td>\n",
       "      <td>0.002860</td>\n",
       "      <td>0.412180</td>\n",
       "      <td>-3.331159</td>\n",
       "      <td>-0.000012</td>\n",
       "      <td>0.0</td>\n",
       "      <td>-28.773346</td>\n",
       "    </tr>\n",
       "    <tr>\n",
       "      <th>std</th>\n",
       "      <td>30.256069</td>\n",
       "      <td>0.778096</td>\n",
       "      <td>0.149122</td>\n",
       "      <td>1.072064e-06</td>\n",
       "      <td>27.327484</td>\n",
       "      <td>0.048545</td>\n",
       "      <td>14.606079</td>\n",
       "      <td>0.002608</td>\n",
       "      <td>0.227224</td>\n",
       "      <td>4.419985</td>\n",
       "      <td>0.000011</td>\n",
       "      <td>0.0</td>\n",
       "      <td>76.674222</td>\n",
       "    </tr>\n",
       "    <tr>\n",
       "      <th>min</th>\n",
       "      <td>-107.500024</td>\n",
       "      <td>-2.671099</td>\n",
       "      <td>-0.510132</td>\n",
       "      <td>-3.685966e-06</td>\n",
       "      <td>-86.792154</td>\n",
       "      <td>-0.167049</td>\n",
       "      <td>-38.564251</td>\n",
       "      <td>0.000000</td>\n",
       "      <td>-0.161155</td>\n",
       "      <td>-16.353180</td>\n",
       "      <td>-0.000036</td>\n",
       "      <td>0.0</td>\n",
       "      <td>-252.710369</td>\n",
       "    </tr>\n",
       "    <tr>\n",
       "      <th>25%</th>\n",
       "      <td>-12.063197</td>\n",
       "      <td>-1.894743</td>\n",
       "      <td>-0.345672</td>\n",
       "      <td>-2.764394e-06</td>\n",
       "      <td>-31.192780</td>\n",
       "      <td>-0.111135</td>\n",
       "      <td>-11.374836</td>\n",
       "      <td>0.000522</td>\n",
       "      <td>0.236955</td>\n",
       "      <td>-5.244651</td>\n",
       "      <td>-0.000020</td>\n",
       "      <td>0.0</td>\n",
       "      <td>-61.687594</td>\n",
       "    </tr>\n",
       "    <tr>\n",
       "      <th>50%</th>\n",
       "      <td>6.233481</td>\n",
       "      <td>-1.190820</td>\n",
       "      <td>-0.205814</td>\n",
       "      <td>-1.842875e-06</td>\n",
       "      <td>-0.739839</td>\n",
       "      <td>-0.065430</td>\n",
       "      <td>3.750870</td>\n",
       "      <td>0.002081</td>\n",
       "      <td>0.469367</td>\n",
       "      <td>-1.069974</td>\n",
       "      <td>-0.000009</td>\n",
       "      <td>0.0</td>\n",
       "      <td>8.646811</td>\n",
       "    </tr>\n",
       "    <tr>\n",
       "      <th>75%</th>\n",
       "      <td>12.354424</td>\n",
       "      <td>-0.559262</td>\n",
       "      <td>-0.090582</td>\n",
       "      <td>-9.214107e-07</td>\n",
       "      <td>6.213465</td>\n",
       "      <td>-0.028755</td>\n",
       "      <td>9.703149</td>\n",
       "      <td>0.004813</td>\n",
       "      <td>0.619326</td>\n",
       "      <td>-0.077775</td>\n",
       "      <td>-0.000002</td>\n",
       "      <td>0.0</td>\n",
       "      <td>26.232778</td>\n",
       "    </tr>\n",
       "    <tr>\n",
       "      <th>max</th>\n",
       "      <td>14.692647</td>\n",
       "      <td>0.000000</td>\n",
       "      <td>0.000000</td>\n",
       "      <td>0.000000e+00</td>\n",
       "      <td>8.443606</td>\n",
       "      <td>0.000000</td>\n",
       "      <td>11.763636</td>\n",
       "      <td>0.008714</td>\n",
       "      <td>0.671101</td>\n",
       "      <td>0.000000</td>\n",
       "      <td>0.000000</td>\n",
       "      <td>0.0</td>\n",
       "      <td>32.171717</td>\n",
       "    </tr>\n",
       "  </tbody>\n",
       "</table>\n",
       "</div>"
      ],
      "text/plain": [
       "       fast_likelihood_quarks.yaml  fast_likelihood_leptons.yaml  \\\n",
       "count                   200.000000                    200.000000   \n",
       "mean                     -7.077309                     -1.239546   \n",
       "std                      30.256069                      0.778096   \n",
       "min                    -107.500024                     -2.671099   \n",
       "25%                     -12.063197                     -1.894743   \n",
       "50%                       6.233481                     -1.190820   \n",
       "75%                      12.354424                     -0.559262   \n",
       "max                      14.692647                      0.000000   \n",
       "\n",
       "       likelihood_ewpt.yaml  likelihood_lept.yaml  likelihood_rd_rds.yaml  \\\n",
       "count            200.000000          2.000000e+02              200.000000   \n",
       "mean              -0.222396         -1.842911e-06              -15.080597   \n",
       "std                0.149122          1.072064e-06               27.327484   \n",
       "min               -0.510132         -3.685966e-06              -86.792154   \n",
       "25%               -0.345672         -2.764394e-06              -31.192780   \n",
       "50%               -0.205814         -1.842875e-06               -0.739839   \n",
       "75%               -0.090582         -9.214107e-07                6.213465   \n",
       "max                0.000000          0.000000e+00                8.443606   \n",
       "\n",
       "       likelihood_lfu_fccc.yaml  likelihood_lfu_fcnc.yaml  \\\n",
       "count                200.000000                200.000000   \n",
       "mean                  -0.071516                 -2.165850   \n",
       "std                    0.048545                 14.606079   \n",
       "min                   -0.167049                -38.564251   \n",
       "25%                   -0.111135                -11.374836   \n",
       "50%                   -0.065430                  3.750870   \n",
       "75%                   -0.028755                  9.703149   \n",
       "max                    0.000000                 11.763636   \n",
       "\n",
       "       likelihood_bcpv.yaml  likelihood_bqnunu.yaml  likelihood_lfv.yaml  \\\n",
       "count            200.000000              200.000000           200.000000   \n",
       "mean               0.002860                0.412180            -3.331159   \n",
       "std                0.002608                0.227224             4.419985   \n",
       "min                0.000000               -0.161155           -16.353180   \n",
       "25%                0.000522                0.236955            -5.244651   \n",
       "50%                0.002081                0.469367            -1.069974   \n",
       "75%                0.004813                0.619326            -0.077775   \n",
       "max                0.008714                0.671101             0.000000   \n",
       "\n",
       "       likelihood_zlfv.yaml  custom_custom      global  \n",
       "count            200.000000          200.0  200.000000  \n",
       "mean              -0.000012            0.0  -28.773346  \n",
       "std                0.000011            0.0   76.674222  \n",
       "min               -0.000036            0.0 -252.710369  \n",
       "25%               -0.000020            0.0  -61.687594  \n",
       "50%               -0.000009            0.0    8.646811  \n",
       "75%               -0.000002            0.0   26.232778  \n",
       "max                0.000000            0.0   32.171717  "
      ]
     },
     "execution_count": 28,
     "metadata": {},
     "output_type": "execute_result"
    }
   ],
   "source": [
    "df_evo[0].describe()"
   ]
  },
  {
   "cell_type": "code",
   "execution_count": 29,
   "metadata": {},
   "outputs": [],
   "source": [
    "fitcodes = {'RK':'likelihood_lfu_fcnc.yaml', 'RD':'likelihood_rd_rds.yaml',  'LFV':'likelihood_lfv.yaml', 'global':'global'}\n",
    "fitlabels = {'RK':r'$R_{K^{(*)}}$', 'RD':r'$R_{D^{(*)}}$',  'LFV':'LFV', 'global':'Global'}"
   ]
  },
  {
   "cell_type": "code",
   "execution_count": 30,
   "metadata": {},
   "outputs": [
    {
     "data": {
      "image/png": "[encoded data removed]",
      "text/plain": [
       "<Figure size 432x288 with 1 Axes>"
      ]
     },
     "metadata": {
      "needs_background": "light"
     },
     "output_type": "display_data"
    },
    {
     "data": {
      "image/png": "[encoded data removed]",
      "text/plain": [
       "<Figure size 432x288 with 1 Axes>"
      ]
     },
     "metadata": {
      "needs_background": "light"
     },
     "output_type": "display_data"
    },
    {
     "data": {
      "image/png": "[encoded data removed]",
      "text/plain": [
       "<Figure size 432x288 with 1 Axes>"
      ]
     },
     "metadata": {
      "needs_background": "light"
     },
     "output_type": "display_data"
    },
    {
     "data": {
      "image/png": "[encoded data removed]",
      "text/plain": [
       "<Figure size 432x288 with 1 Axes>"
      ]
     },
     "metadata": {
      "needs_background": "light"
     },
     "output_type": "display_data"
    },
    {
     "data": {
      "image/png": "[encoded data removed]",
      "text/plain": [
       "<Figure size 432x288 with 1 Axes>"
      ]
     },
     "metadata": {
      "needs_background": "light"
     },
     "output_type": "display_data"
    }
   ],
   "source": [
    "for i in range(5):\n",
    "    fig = plt.figure()\n",
    "    for p in fitcodes.keys():\n",
    "        plt.plot(np.linspace(minpars[i], maxpars[i], 200), df_evo[i][fitcodes[p]], lw=1.5, label=fitlabels[p] )\n",
    "    plt.ylim([-40,40])\n",
    "    plt.xlim([minpars[i], maxpars[i]])\n",
    "    plt.legend(fontsize=16)\n",
    "    plt.xlabel(labels[i], fontsize=20)\n",
    "    plt.ylabel(r'$\\Delta \\log L$', fontsize=20)\n",
    "    plt.tight_layout(pad=0.5)\n",
    "    fig.savefig('evoplot_' + names[i] + '.pdf')\n",
    "    #fig.savefig('evoplot_' + names[i] + '.pgf')"
   ]
  },
  {
   "cell_type": "code",
   "execution_count": 24,
   "metadata": {},
   "outputs": [],
   "source": [
    "plt.rcParams.update({'text.usetex':True})"
   ]
  },
  {
   "cell_type": "code",
   "execution_count": null,
   "metadata": {},
   "outputs": [],
   "source": []
  }
 ],
 "metadata": {
  "kernelspec": {
   "display_name": "Python 3",
   "language": "python",
   "name": "python3"
  },
  "language_info": {
   "codemirror_mode": {
    "name": "ipython",
    "version": 3
   },
   "file_extension": ".py",
   "mimetype": "text/x-python",
   "name": "python",
   "nbconvert_exporter": "python",
   "pygments_lexer": "ipython3",
   "version": "3.8.10"
  }
 },
 "nbformat": 4,
 "nbformat_minor": 4
}
